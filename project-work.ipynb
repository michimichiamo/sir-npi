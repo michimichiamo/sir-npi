{
 "cells": [
  {
   "cell_type": "markdown",
   "id": "79acb73a",
   "metadata": {
    "slideshow": {
     "slide_type": "slide"
    }
   },
   "source": [
    "# A predictive model for epidemic scenarios (SARS-CoV-2) exploiting Artificial Neural Networks"
   ]
  },
  {
   "cell_type": "markdown",
   "id": "b1cd06d9",
   "metadata": {
    "slideshow": {
     "slide_type": "slide"
    }
   },
   "source": [
    "## Introduction"
   ]
  },
  {
   "cell_type": "markdown",
   "id": "6d883fd5",
   "metadata": {
    "slideshow": {
     "slide_type": "subslide"
    }
   },
   "source": [
    "### Reminders<br/><br/>\n",
    "\n",
    "* As a first task, we managed to **estimate the parameters** of the epidemic\n",
    "* We can now build an Artificial Neural Network, feeding:\n",
    "  - these parameters as **target**\n",
    "  - NPIs (Non Pharmaceutical Interventions) and some more data as **inputs**\n",
    "* If we accomplish this task, we obtain a ML model able to **predict** the evolution of the pandemic based on the applied containment measures"
   ]
  },
  {
   "cell_type": "markdown",
   "id": "6e2af565",
   "metadata": {
    "slideshow": {
     "slide_type": "subslide"
    }
   },
   "source": [
    "### Available data<br/><br/>\n",
    "\n",
    "* Let's firstly establish the data sources we are going to exploit:\n",
    "  - The official [COVID-19](https://github.com/pcm-dpc/COVID-19) data\n",
    "  - The [Oxford Covid-19 Government Response Tracker (OxCGRT)](https://github.com/OxCGRT/covid-policy-tracker/), which provides daily NPIs taken by governments\n",
    "  - Daily temperature data from the [European Climate Assessment & Dataset project](https://www.ecad.eu/)\n",
    "  - Apple's [Mobility Trends Reports](https://covid19.apple.com/mobility), reflecting daily requests for directions handled by Apple devices (thus giving a hint about mobility)\n",
    "  - Our <b>fitted data</b>: the $\\boldsymbol{\\beta}$ parameters"
   ]
  },
  {
   "cell_type": "code",
   "execution_count": 1,
   "id": "77518f55",
   "metadata": {
    "slideshow": {
     "slide_type": "skip"
    }
   },
   "outputs": [],
   "source": [
    "## Imports\n",
    "\n",
    "import os\n",
    "#os.environ['PYTHONHASHSEED']=str(42)\n",
    "import urllib\n",
    "import datetime\n",
    "\n",
    "#import random as python_random\n",
    "#python_random.seed(42)\n",
    "\n",
    "import pandas as pd\n",
    "import numpy as np\n",
    "#np.random.seed(42)\n",
    "import tensorflow as tf\n",
    "#tf.random.set_seed(42)\n",
    "\n",
    "from matplotlib import pyplot as plt\n",
    "import ipywidgets as widgets\n",
    "\n",
    "from tqdm import tqdm\n",
    "\n",
    "%matplotlib widget\n",
    "%load_ext autoreload\n",
    "%autoreload 2\n",
    "\n",
    "from util.NPINet.plotter import plotter, plot_loss_history, evaluate_model, SIR_evaluation\n",
    "from util.NPINet.reader import download_data, load_data, apply_lbdays, split_data, convert_to_tensor, \\\n",
    "                               directory, P_DATA, T_DATA, M_DATA\n",
    "from util.NPINet.model import opts, customize_hyperparameters, NPINet\n",
    "from sklearn.model_selection import train_test_split\n",
    "\n",
    "P_DATA = os.path.join(directory, P_DATA)\n",
    "T_DATA = os.path.join(directory, T_DATA)\n",
    "M_DATA = os.path.join(directory, M_DATA)\n",
    "\n"
   ]
  },
  {
   "cell_type": "markdown",
   "id": "67f57d42",
   "metadata": {
    "slideshow": {
     "slide_type": "slide"
    }
   },
   "source": [
    "## Data preprocessing"
   ]
  },
  {
   "cell_type": "markdown",
   "id": "3273c5ce",
   "metadata": {
    "slideshow": {
     "slide_type": "subslide"
    }
   },
   "source": [
    "### Inspecting data\n",
    "\n",
    "* Let's quickly inspect raw data"
   ]
  },
  {
   "cell_type": "code",
   "execution_count": 2,
   "id": "1b9c695b",
   "metadata": {
    "slideshow": {
     "slide_type": "-"
    }
   },
   "outputs": [
    {
     "data": {
      "text/html": [
       "<div>\n",
       "<style scoped>\n",
       "    .dataframe tbody tr th:only-of-type {\n",
       "        vertical-align: middle;\n",
       "    }\n",
       "\n",
       "    .dataframe tbody tr th {\n",
       "        vertical-align: top;\n",
       "    }\n",
       "\n",
       "    .dataframe thead th {\n",
       "        text-align: right;\n",
       "    }\n",
       "</style>\n",
       "<table border=\"1\" class=\"dataframe\">\n",
       "  <thead>\n",
       "    <tr style=\"text-align: right;\">\n",
       "      <th></th>\n",
       "      <th>CountryName</th>\n",
       "      <th>CountryCode</th>\n",
       "      <th>RegionName</th>\n",
       "      <th>RegionCode</th>\n",
       "      <th>Jurisdiction</th>\n",
       "      <th>Date</th>\n",
       "      <th>C1_School closing</th>\n",
       "      <th>C1_Flag</th>\n",
       "      <th>C2_Workplace closing</th>\n",
       "      <th>C2_Flag</th>\n",
       "      <th>...</th>\n",
       "      <th>StringencyIndex</th>\n",
       "      <th>StringencyIndexForDisplay</th>\n",
       "      <th>StringencyLegacyIndex</th>\n",
       "      <th>StringencyLegacyIndexForDisplay</th>\n",
       "      <th>GovernmentResponseIndex</th>\n",
       "      <th>GovernmentResponseIndexForDisplay</th>\n",
       "      <th>ContainmentHealthIndex</th>\n",
       "      <th>ContainmentHealthIndexForDisplay</th>\n",
       "      <th>EconomicSupportIndex</th>\n",
       "      <th>EconomicSupportIndexForDisplay</th>\n",
       "    </tr>\n",
       "  </thead>\n",
       "  <tbody>\n",
       "    <tr>\n",
       "      <th>0</th>\n",
       "      <td>Aruba</td>\n",
       "      <td>ABW</td>\n",
       "      <td>NaN</td>\n",
       "      <td>NaN</td>\n",
       "      <td>NAT_TOTAL</td>\n",
       "      <td>20200101</td>\n",
       "      <td>0.0</td>\n",
       "      <td>NaN</td>\n",
       "      <td>0.0</td>\n",
       "      <td>NaN</td>\n",
       "      <td>...</td>\n",
       "      <td>0.0</td>\n",
       "      <td>0.0</td>\n",
       "      <td>0.0</td>\n",
       "      <td>0.0</td>\n",
       "      <td>0.0</td>\n",
       "      <td>0.0</td>\n",
       "      <td>0.0</td>\n",
       "      <td>0.0</td>\n",
       "      <td>0.0</td>\n",
       "      <td>0.0</td>\n",
       "    </tr>\n",
       "    <tr>\n",
       "      <th>1</th>\n",
       "      <td>Aruba</td>\n",
       "      <td>ABW</td>\n",
       "      <td>NaN</td>\n",
       "      <td>NaN</td>\n",
       "      <td>NAT_TOTAL</td>\n",
       "      <td>20200102</td>\n",
       "      <td>0.0</td>\n",
       "      <td>NaN</td>\n",
       "      <td>0.0</td>\n",
       "      <td>NaN</td>\n",
       "      <td>...</td>\n",
       "      <td>0.0</td>\n",
       "      <td>0.0</td>\n",
       "      <td>0.0</td>\n",
       "      <td>0.0</td>\n",
       "      <td>0.0</td>\n",
       "      <td>0.0</td>\n",
       "      <td>0.0</td>\n",
       "      <td>0.0</td>\n",
       "      <td>0.0</td>\n",
       "      <td>0.0</td>\n",
       "    </tr>\n",
       "    <tr>\n",
       "      <th>2</th>\n",
       "      <td>Aruba</td>\n",
       "      <td>ABW</td>\n",
       "      <td>NaN</td>\n",
       "      <td>NaN</td>\n",
       "      <td>NAT_TOTAL</td>\n",
       "      <td>20200103</td>\n",
       "      <td>0.0</td>\n",
       "      <td>NaN</td>\n",
       "      <td>0.0</td>\n",
       "      <td>NaN</td>\n",
       "      <td>...</td>\n",
       "      <td>0.0</td>\n",
       "      <td>0.0</td>\n",
       "      <td>0.0</td>\n",
       "      <td>0.0</td>\n",
       "      <td>0.0</td>\n",
       "      <td>0.0</td>\n",
       "      <td>0.0</td>\n",
       "      <td>0.0</td>\n",
       "      <td>0.0</td>\n",
       "      <td>0.0</td>\n",
       "    </tr>\n",
       "    <tr>\n",
       "      <th>3</th>\n",
       "      <td>Aruba</td>\n",
       "      <td>ABW</td>\n",
       "      <td>NaN</td>\n",
       "      <td>NaN</td>\n",
       "      <td>NAT_TOTAL</td>\n",
       "      <td>20200104</td>\n",
       "      <td>0.0</td>\n",
       "      <td>NaN</td>\n",
       "      <td>0.0</td>\n",
       "      <td>NaN</td>\n",
       "      <td>...</td>\n",
       "      <td>0.0</td>\n",
       "      <td>0.0</td>\n",
       "      <td>0.0</td>\n",
       "      <td>0.0</td>\n",
       "      <td>0.0</td>\n",
       "      <td>0.0</td>\n",
       "      <td>0.0</td>\n",
       "      <td>0.0</td>\n",
       "      <td>0.0</td>\n",
       "      <td>0.0</td>\n",
       "    </tr>\n",
       "    <tr>\n",
       "      <th>4</th>\n",
       "      <td>Aruba</td>\n",
       "      <td>ABW</td>\n",
       "      <td>NaN</td>\n",
       "      <td>NaN</td>\n",
       "      <td>NAT_TOTAL</td>\n",
       "      <td>20200105</td>\n",
       "      <td>0.0</td>\n",
       "      <td>NaN</td>\n",
       "      <td>0.0</td>\n",
       "      <td>NaN</td>\n",
       "      <td>...</td>\n",
       "      <td>0.0</td>\n",
       "      <td>0.0</td>\n",
       "      <td>0.0</td>\n",
       "      <td>0.0</td>\n",
       "      <td>0.0</td>\n",
       "      <td>0.0</td>\n",
       "      <td>0.0</td>\n",
       "      <td>0.0</td>\n",
       "      <td>0.0</td>\n",
       "      <td>0.0</td>\n",
       "    </tr>\n",
       "  </tbody>\n",
       "</table>\n",
       "<p>5 rows × 51 columns</p>\n",
       "</div>"
      ],
      "text/plain": [
       "  CountryName CountryCode RegionName RegionCode Jurisdiction      Date  \\\n",
       "0       Aruba         ABW        NaN        NaN    NAT_TOTAL  20200101   \n",
       "1       Aruba         ABW        NaN        NaN    NAT_TOTAL  20200102   \n",
       "2       Aruba         ABW        NaN        NaN    NAT_TOTAL  20200103   \n",
       "3       Aruba         ABW        NaN        NaN    NAT_TOTAL  20200104   \n",
       "4       Aruba         ABW        NaN        NaN    NAT_TOTAL  20200105   \n",
       "\n",
       "   C1_School closing  C1_Flag  C2_Workplace closing  C2_Flag  ...  \\\n",
       "0                0.0      NaN                   0.0      NaN  ...   \n",
       "1                0.0      NaN                   0.0      NaN  ...   \n",
       "2                0.0      NaN                   0.0      NaN  ...   \n",
       "3                0.0      NaN                   0.0      NaN  ...   \n",
       "4                0.0      NaN                   0.0      NaN  ...   \n",
       "\n",
       "   StringencyIndex  StringencyIndexForDisplay  StringencyLegacyIndex  \\\n",
       "0              0.0                        0.0                    0.0   \n",
       "1              0.0                        0.0                    0.0   \n",
       "2              0.0                        0.0                    0.0   \n",
       "3              0.0                        0.0                    0.0   \n",
       "4              0.0                        0.0                    0.0   \n",
       "\n",
       "   StringencyLegacyIndexForDisplay  GovernmentResponseIndex  \\\n",
       "0                              0.0                      0.0   \n",
       "1                              0.0                      0.0   \n",
       "2                              0.0                      0.0   \n",
       "3                              0.0                      0.0   \n",
       "4                              0.0                      0.0   \n",
       "\n",
       "   GovernmentResponseIndexForDisplay  ContainmentHealthIndex  \\\n",
       "0                                0.0                     0.0   \n",
       "1                                0.0                     0.0   \n",
       "2                                0.0                     0.0   \n",
       "3                                0.0                     0.0   \n",
       "4                                0.0                     0.0   \n",
       "\n",
       "   ContainmentHealthIndexForDisplay  EconomicSupportIndex  \\\n",
       "0                               0.0                   0.0   \n",
       "1                               0.0                   0.0   \n",
       "2                               0.0                   0.0   \n",
       "3                               0.0                   0.0   \n",
       "4                               0.0                   0.0   \n",
       "\n",
       "   EconomicSupportIndexForDisplay  \n",
       "0                             0.0  \n",
       "1                             0.0  \n",
       "2                             0.0  \n",
       "3                             0.0  \n",
       "4                             0.0  \n",
       "\n",
       "[5 rows x 51 columns]"
      ]
     },
     "execution_count": 2,
     "metadata": {},
     "output_type": "execute_result"
    }
   ],
   "source": [
    "# NPIs\n",
    "P_data = pd.read_csv(P_DATA, low_memory=False)\n",
    "P_data.head()"
   ]
  },
  {
   "cell_type": "markdown",
   "id": "243cefe5",
   "metadata": {
    "slideshow": {
     "slide_type": "-"
    }
   },
   "source": [
    "* It's necessary to filter out meaningful data and take care of some missing values\n",
    "* Moreover, we need to parse dates"
   ]
  },
  {
   "cell_type": "markdown",
   "id": "77f85652",
   "metadata": {
    "slideshow": {
     "slide_type": "subslide"
    }
   },
   "source": [
    "### Inspecting data\n",
    "\n",
    "* Let's quickly inspect raw data"
   ]
  },
  {
   "cell_type": "code",
   "execution_count": 3,
   "id": "570854ed",
   "metadata": {
    "slideshow": {
     "slide_type": "-"
    }
   },
   "outputs": [],
   "source": [
    "# Temperature\n",
    "T_data = pd.DataFrame()\n",
    "for filename in os.listdir(T_DATA):\n",
    "    if filename.startswith('TG'):\n",
    "        with open(os.path.join(T_DATA, filename)) as file:\n",
    "            for line in file:\n",
    "                if line == ' SOUID,    DATE,   TG, Q_TG\\n':\n",
    "                    columns=line\n",
    "                    break\n",
    "            df = pd.read_table(file, sep=',', names=list(map(lambda x: x.strip(), columns.split(','))))\n",
    "            T_data = pd.concat([T_data, df])"
   ]
  },
  {
   "cell_type": "code",
   "execution_count": 37,
   "id": "fe338ea7",
   "metadata": {
    "slideshow": {
     "slide_type": "-"
    }
   },
   "outputs": [
    {
     "data": {
      "text/html": [
       "<div>\n",
       "<style scoped>\n",
       "    .dataframe tbody tr th:only-of-type {\n",
       "        vertical-align: middle;\n",
       "    }\n",
       "\n",
       "    .dataframe tbody tr th {\n",
       "        vertical-align: top;\n",
       "    }\n",
       "\n",
       "    .dataframe thead th {\n",
       "        text-align: right;\n",
       "    }\n",
       "</style>\n",
       "<table border=\"1\" class=\"dataframe\">\n",
       "  <thead>\n",
       "    <tr style=\"text-align: right;\">\n",
       "      <th></th>\n",
       "      <th>SOUID</th>\n",
       "      <th>DATE</th>\n",
       "      <th>TG</th>\n",
       "      <th>Q_TG</th>\n",
       "    </tr>\n",
       "  </thead>\n",
       "  <tbody>\n",
       "    <tr>\n",
       "      <th>0</th>\n",
       "      <td>196024</td>\n",
       "      <td>20051201</td>\n",
       "      <td>-9999</td>\n",
       "      <td>9</td>\n",
       "    </tr>\n",
       "    <tr>\n",
       "      <th>1</th>\n",
       "      <td>196024</td>\n",
       "      <td>20051202</td>\n",
       "      <td>-9999</td>\n",
       "      <td>9</td>\n",
       "    </tr>\n",
       "    <tr>\n",
       "      <th>2</th>\n",
       "      <td>196024</td>\n",
       "      <td>20051203</td>\n",
       "      <td>-9999</td>\n",
       "      <td>9</td>\n",
       "    </tr>\n",
       "    <tr>\n",
       "      <th>3</th>\n",
       "      <td>196024</td>\n",
       "      <td>20051204</td>\n",
       "      <td>-9999</td>\n",
       "      <td>9</td>\n",
       "    </tr>\n",
       "    <tr>\n",
       "      <th>4</th>\n",
       "      <td>196024</td>\n",
       "      <td>20051205</td>\n",
       "      <td>-9999</td>\n",
       "      <td>9</td>\n",
       "    </tr>\n",
       "  </tbody>\n",
       "</table>\n",
       "</div>"
      ],
      "text/plain": [
       "    SOUID      DATE    TG  Q_TG\n",
       "0  196024  20051201 -9999     9\n",
       "1  196024  20051202 -9999     9\n",
       "2  196024  20051203 -9999     9\n",
       "3  196024  20051204 -9999     9\n",
       "4  196024  20051205 -9999     9"
      ]
     },
     "execution_count": 37,
     "metadata": {},
     "output_type": "execute_result"
    }
   ],
   "source": [
    "T_data.head()\n",
    "#T_data[T_data['TG']!=-9999]\n",
    "#T_data[T_data['SOUID'] == 105249]"
   ]
  },
  {
   "cell_type": "markdown",
   "id": "cf061c8f",
   "metadata": {
    "slideshow": {
     "slide_type": "-"
    }
   },
   "source": [
    "* `-9999` flags missing values: we must perform some filtering\n",
    "* The measurement unit is 0.1°C (which causes no issues, since we are going to normalize anyway)\n",
    "* We have data dating back to 1763 (!): we are going to exploit only recent data (~15 years)"
   ]
  },
  {
   "cell_type": "markdown",
   "id": "4896a53b",
   "metadata": {
    "slideshow": {
     "slide_type": "subslide"
    }
   },
   "source": [
    "### Inspecting data\n",
    "\n",
    "* Let's quickly inspect raw data"
   ]
  },
  {
   "cell_type": "code",
   "execution_count": 5,
   "id": "97719020",
   "metadata": {
    "slideshow": {
     "slide_type": "-"
    }
   },
   "outputs": [
    {
     "data": {
      "text/html": [
       "<div>\n",
       "<style scoped>\n",
       "    .dataframe tbody tr th:only-of-type {\n",
       "        vertical-align: middle;\n",
       "    }\n",
       "\n",
       "    .dataframe tbody tr th {\n",
       "        vertical-align: top;\n",
       "    }\n",
       "\n",
       "    .dataframe thead th {\n",
       "        text-align: right;\n",
       "    }\n",
       "</style>\n",
       "<table border=\"1\" class=\"dataframe\">\n",
       "  <thead>\n",
       "    <tr style=\"text-align: right;\">\n",
       "      <th></th>\n",
       "      <th>geo_type</th>\n",
       "      <th>region</th>\n",
       "      <th>transportation_type</th>\n",
       "      <th>alternative_name</th>\n",
       "      <th>sub-region</th>\n",
       "      <th>country</th>\n",
       "      <th>2020-01-13</th>\n",
       "      <th>2020-01-14</th>\n",
       "      <th>2020-01-15</th>\n",
       "      <th>2020-01-16</th>\n",
       "      <th>...</th>\n",
       "      <th>2021-04-30</th>\n",
       "      <th>2021-05-01</th>\n",
       "      <th>2021-05-02</th>\n",
       "      <th>2021-05-03</th>\n",
       "      <th>2021-05-04</th>\n",
       "      <th>2021-05-05</th>\n",
       "      <th>2021-05-06</th>\n",
       "      <th>2021-05-07</th>\n",
       "      <th>2021-05-08</th>\n",
       "      <th>2021-05-09</th>\n",
       "    </tr>\n",
       "  </thead>\n",
       "  <tbody>\n",
       "    <tr>\n",
       "      <th>0</th>\n",
       "      <td>country/region</td>\n",
       "      <td>Albania</td>\n",
       "      <td>driving</td>\n",
       "      <td>NaN</td>\n",
       "      <td>NaN</td>\n",
       "      <td>NaN</td>\n",
       "      <td>100.0</td>\n",
       "      <td>95.30</td>\n",
       "      <td>101.43</td>\n",
       "      <td>97.20</td>\n",
       "      <td>...</td>\n",
       "      <td>135.23</td>\n",
       "      <td>182.13</td>\n",
       "      <td>172.62</td>\n",
       "      <td>145.75</td>\n",
       "      <td>138.43</td>\n",
       "      <td>132.24</td>\n",
       "      <td>135.06</td>\n",
       "      <td>147.77</td>\n",
       "      <td>166.87</td>\n",
       "      <td>175.89</td>\n",
       "    </tr>\n",
       "    <tr>\n",
       "      <th>1</th>\n",
       "      <td>country/region</td>\n",
       "      <td>Albania</td>\n",
       "      <td>walking</td>\n",
       "      <td>NaN</td>\n",
       "      <td>NaN</td>\n",
       "      <td>NaN</td>\n",
       "      <td>100.0</td>\n",
       "      <td>100.68</td>\n",
       "      <td>98.93</td>\n",
       "      <td>98.46</td>\n",
       "      <td>...</td>\n",
       "      <td>155.35</td>\n",
       "      <td>169.47</td>\n",
       "      <td>145.97</td>\n",
       "      <td>166.57</td>\n",
       "      <td>162.26</td>\n",
       "      <td>153.39</td>\n",
       "      <td>154.46</td>\n",
       "      <td>172.67</td>\n",
       "      <td>163.54</td>\n",
       "      <td>155.35</td>\n",
       "    </tr>\n",
       "    <tr>\n",
       "      <th>2</th>\n",
       "      <td>country/region</td>\n",
       "      <td>Argentina</td>\n",
       "      <td>driving</td>\n",
       "      <td>NaN</td>\n",
       "      <td>NaN</td>\n",
       "      <td>NaN</td>\n",
       "      <td>100.0</td>\n",
       "      <td>97.07</td>\n",
       "      <td>102.45</td>\n",
       "      <td>111.21</td>\n",
       "      <td>...</td>\n",
       "      <td>81.98</td>\n",
       "      <td>78.80</td>\n",
       "      <td>52.41</td>\n",
       "      <td>54.14</td>\n",
       "      <td>58.74</td>\n",
       "      <td>61.20</td>\n",
       "      <td>65.18</td>\n",
       "      <td>81.05</td>\n",
       "      <td>85.84</td>\n",
       "      <td>51.91</td>\n",
       "    </tr>\n",
       "    <tr>\n",
       "      <th>3</th>\n",
       "      <td>country/region</td>\n",
       "      <td>Argentina</td>\n",
       "      <td>walking</td>\n",
       "      <td>NaN</td>\n",
       "      <td>NaN</td>\n",
       "      <td>NaN</td>\n",
       "      <td>100.0</td>\n",
       "      <td>95.11</td>\n",
       "      <td>101.37</td>\n",
       "      <td>112.67</td>\n",
       "      <td>...</td>\n",
       "      <td>68.79</td>\n",
       "      <td>58.44</td>\n",
       "      <td>40.26</td>\n",
       "      <td>48.24</td>\n",
       "      <td>53.56</td>\n",
       "      <td>56.22</td>\n",
       "      <td>59.23</td>\n",
       "      <td>69.96</td>\n",
       "      <td>71.04</td>\n",
       "      <td>39.38</td>\n",
       "    </tr>\n",
       "    <tr>\n",
       "      <th>4</th>\n",
       "      <td>country/region</td>\n",
       "      <td>Australia</td>\n",
       "      <td>driving</td>\n",
       "      <td>AU</td>\n",
       "      <td>NaN</td>\n",
       "      <td>NaN</td>\n",
       "      <td>100.0</td>\n",
       "      <td>102.98</td>\n",
       "      <td>104.21</td>\n",
       "      <td>108.63</td>\n",
       "      <td>...</td>\n",
       "      <td>130.17</td>\n",
       "      <td>104.93</td>\n",
       "      <td>101.50</td>\n",
       "      <td>107.43</td>\n",
       "      <td>109.24</td>\n",
       "      <td>112.59</td>\n",
       "      <td>120.96</td>\n",
       "      <td>130.43</td>\n",
       "      <td>100.62</td>\n",
       "      <td>102.82</td>\n",
       "    </tr>\n",
       "  </tbody>\n",
       "</table>\n",
       "<p>5 rows × 489 columns</p>\n",
       "</div>"
      ],
      "text/plain": [
       "         geo_type     region transportation_type alternative_name sub-region  \\\n",
       "0  country/region    Albania             driving              NaN        NaN   \n",
       "1  country/region    Albania             walking              NaN        NaN   \n",
       "2  country/region  Argentina             driving              NaN        NaN   \n",
       "3  country/region  Argentina             walking              NaN        NaN   \n",
       "4  country/region  Australia             driving               AU        NaN   \n",
       "\n",
       "  country  2020-01-13  2020-01-14  2020-01-15  2020-01-16  ...  2021-04-30  \\\n",
       "0     NaN       100.0       95.30      101.43       97.20  ...      135.23   \n",
       "1     NaN       100.0      100.68       98.93       98.46  ...      155.35   \n",
       "2     NaN       100.0       97.07      102.45      111.21  ...       81.98   \n",
       "3     NaN       100.0       95.11      101.37      112.67  ...       68.79   \n",
       "4     NaN       100.0      102.98      104.21      108.63  ...      130.17   \n",
       "\n",
       "   2021-05-01  2021-05-02  2021-05-03  2021-05-04  2021-05-05  2021-05-06  \\\n",
       "0      182.13      172.62      145.75      138.43      132.24      135.06   \n",
       "1      169.47      145.97      166.57      162.26      153.39      154.46   \n",
       "2       78.80       52.41       54.14       58.74       61.20       65.18   \n",
       "3       58.44       40.26       48.24       53.56       56.22       59.23   \n",
       "4      104.93      101.50      107.43      109.24      112.59      120.96   \n",
       "\n",
       "   2021-05-07  2021-05-08  2021-05-09  \n",
       "0      147.77      166.87      175.89  \n",
       "1      172.67      163.54      155.35  \n",
       "2       81.05       85.84       51.91  \n",
       "3       69.96       71.04       39.38  \n",
       "4      130.43      100.62      102.82  \n",
       "\n",
       "[5 rows x 489 columns]"
      ]
     },
     "execution_count": 5,
     "metadata": {},
     "output_type": "execute_result"
    }
   ],
   "source": [
    "# Mobility\n",
    "M_data = pd.read_csv(M_DATA, low_memory=False)\n",
    "M_data.head()"
   ]
  },
  {
   "cell_type": "markdown",
   "id": "60376dc3",
   "metadata": {
    "slideshow": {
     "slide_type": "-"
    }
   },
   "source": [
    "* A bit annoying: a column for each day (we will address this easily through `pd.DataFrame.transpose()`)\n",
    "* As before, we must pay attention to missing values"
   ]
  },
  {
   "cell_type": "markdown",
   "id": "0f8289c8",
   "metadata": {
    "slideshow": {
     "slide_type": "subslide"
    }
   },
   "source": [
    "### Cleaning data<br/><br/>\n",
    "\n",
    "* We pack everything into two functions\n",
    "\n",
    "```python\n",
    "# Create DataFrame from csv\n",
    "def download_data(...):\n",
    "    ...\n",
    "    return P_data, SIR_data, beta_data, T_data, M_data\n",
    "def load_data(data, start_date, end_date, split_date, ...):\n",
    "    ...\n",
    "    return P_dataframe, SIR_dataframe, beta_dataframe, T_dataframe, M_dataframe\n",
    "```\n",
    "* The first one takes care of retrieving .csv files and loading them as `pd.DataFrame`s\n",
    "* The second one takes care of filtering, cleaning and normalizing data, parsing dates (and setting a `pd.DatetimeIndex`) and splitting data for training and test"
   ]
  },
  {
   "cell_type": "markdown",
   "id": "254ad053",
   "metadata": {
    "slideshow": {
     "slide_type": "subslide"
    }
   },
   "source": [
    "### Cleaning data<br/><br/>"
   ]
  },
  {
   "cell_type": "code",
   "execution_count": 38,
   "id": "e57dc989",
   "metadata": {
    "slideshow": {
     "slide_type": "-"
    }
   },
   "outputs": [],
   "source": [
    "# Download\n",
    "data = download_data()"
   ]
  },
  {
   "cell_type": "code",
   "execution_count": 39,
   "id": "b286e749",
   "metadata": {
    "slideshow": {
     "slide_type": "-"
    }
   },
   "outputs": [],
   "source": [
    "start_date=datetime.date(2020, 8, 15) \n",
    "end_date=datetime.date(2021, 4, 22)\n",
    "split_date=datetime.date(2021, 2, 23) # train-test split\n",
    "encoding_method = 'normalize'"
   ]
  },
  {
   "cell_type": "code",
   "execution_count": 41,
   "id": "f9b8a1c3",
   "metadata": {
    "slideshow": {
     "slide_type": "-"
    }
   },
   "outputs": [],
   "source": [
    "# Preprocessing\n",
    "P, SIR, beta, T, M = load_data(data, start_date, end_date, split_date, encoding_method)"
   ]
  },
  {
   "cell_type": "markdown",
   "id": "0f7ffaef",
   "metadata": {
    "slideshow": {
     "slide_type": "subslide"
    }
   },
   "source": [
    "### Preparing data<br/><br/>\n",
    "\n",
    "* As part of the input data, we could also provide the number of **infected**\n",
    "  * However, due to the SIR model's structure, we could reason that the relationship with the $\\boldsymbol{\\beta}$ parameters can be better established through **infection trends**, namely **sequences** rather than single data points\n",
    "* Hence, we should discard initial data points for every input feature, in order to have sequences of the same length\n",
    "* The length of these sequences (`lbdays`) is a *hyperparameter* to tune"
   ]
  },
  {
   "cell_type": "code",
   "execution_count": 47,
   "id": "8b1f88c8",
   "metadata": {
    "slideshow": {
     "slide_type": "-"
    }
   },
   "outputs": [],
   "source": [
    "# Lookback days: sequences as input\n",
    "lbdays=21\n",
    "I = apply_lbdays(P, SIR, beta, T, M, start_date, lbdays)"
   ]
  },
  {
   "cell_type": "markdown",
   "id": "f3dbf337",
   "metadata": {
    "slideshow": {
     "slide_type": "subslide"
    }
   },
   "source": [
    "### Preparing data<br/><br/>\n",
    "```python\n",
    "# Courtesy of prof. Lombardi\n",
    "def sliding_window_1D(data, wlen):\n",
    "    ...\n",
    "    return wdata\n",
    "def apply_lbdays(P, SIR, beta, T, M, start_date, lbdays=0):\n",
    "    I = SIR.filter(['I', 'split'])\n",
    "    # Substitute 'nan' for first lbdays values (not large enough time window)\n",
    "    if lbdays:\n",
    "        for df in [P, beta, T, M]:\n",
    "            df.loc[:start_date+datetime.timedelta(lbdays-1), 'split'] = np.nan\n",
    "\n",
    "        I = sliding_window_1D(I, wlen=lbdays+1)\n",
    "    ...\n",
    "    return I\n",
    "```"
   ]
  },
  {
   "cell_type": "markdown",
   "id": "7707c61e",
   "metadata": {
    "slideshow": {
     "slide_type": "slide"
    }
   },
   "source": [
    "## Training"
   ]
  },
  {
   "cell_type": "markdown",
   "id": "fd58b5fb",
   "metadata": {
    "slideshow": {
     "slide_type": "subslide"
    }
   },
   "source": [
    "### Split data<br/><br/>\n",
    "\n",
    "* The size of the validation split is another *hyperparameter* that can be tuned"
   ]
  },
  {
   "cell_type": "code",
   "execution_count": 48,
   "id": "e0524d93",
   "metadata": {
    "scrolled": true,
    "slideshow": {
     "slide_type": "-"
    }
   },
   "outputs": [
    {
     "name": "stdout",
     "output_type": "stream",
     "text": [
      "Shapes\n",
      "Policies: (172, 11)\n",
      "Infected: (172, 22)\n",
      "Beta: (172,)\n",
      "Temperature: (172, 1)\n",
      "Mobility: (172, 1)\n",
      "Training shapes: (154, 35), (154,)\n",
      "Validation shapes: (18, 35), (18,)\n"
     ]
    }
   ],
   "source": [
    "# Load training data\n",
    "X_train_val, Y_train_val = split_data(P, I, beta, T, M, 'train', lbdays)\n",
    "# Split into training and validation\n",
    "X_train, X_val, Y_train, Y_val = train_test_split(X_train_val, Y_train_val, test_size=0.1, shuffle=False)\n",
    "print(f'Training shapes: {X_train.shape}, {Y_train.shape}')\n",
    "print(f'Validation shapes: {X_val.shape}, {Y_val.shape}')"
   ]
  },
  {
   "cell_type": "code",
   "execution_count": 49,
   "id": "6e43f2cd",
   "metadata": {
    "slideshow": {
     "slide_type": "-"
    }
   },
   "outputs": [],
   "source": [
    "# Convert to tensors\n",
    "X_train_val, Y_train_val = convert_to_tensor(X_train_val, Y_train_val)\n",
    "X_train, Y_train, X_val, Y_val = convert_to_tensor(X_train, Y_train, X_val, Y_val)"
   ]
  },
  {
   "cell_type": "markdown",
   "id": "93b48916",
   "metadata": {
    "slideshow": {
     "slide_type": "subslide"
    }
   },
   "source": [
    "### Split data"
   ]
  },
  {
   "cell_type": "code",
   "execution_count": 50,
   "id": "ba4d0c05",
   "metadata": {
    "slideshow": {
     "slide_type": "-"
    }
   },
   "outputs": [
    {
     "name": "stdout",
     "output_type": "stream",
     "text": [
      "Shapes\n",
      "Policies: (58, 11)\n",
      "Infected: (58, 22)\n",
      "Beta: (58,)\n",
      "Temperature: (58, 1)\n",
      "Mobility: (58, 1)\n",
      "Test shapes: (58, 35), (58,)\n"
     ]
    }
   ],
   "source": [
    "# Load test data\n",
    "X_test, Y_test = split_data(P, I, beta, T, M, 'test', lbdays)\n",
    "print(f'Test shapes: {X_test.shape}, {Y_test.shape}')\n",
    "\n",
    "X_test, Y_test = convert_to_tensor(X_test, Y_test)"
   ]
  },
  {
   "cell_type": "code",
   "execution_count": 51,
   "id": "3414f67e",
   "metadata": {
    "slideshow": {
     "slide_type": "-"
    }
   },
   "outputs": [
    {
     "name": "stdout",
     "output_type": "stream",
     "text": [
      "Shapes: (230, 35) (230,)\n"
     ]
    }
   ],
   "source": [
    "# Pack up data\n",
    "X_true = tf.concat([X_train_val, X_test], axis=0)\n",
    "Y_true = tf.concat([Y_train_val, Y_test], axis=0) \n",
    "print('Shapes:', X_true.shape, Y_true.shape)"
   ]
  },
  {
   "cell_type": "markdown",
   "id": "0747d733",
   "metadata": {
    "slideshow": {
     "slide_type": "subslide"
    }
   },
   "source": [
    "### Defining the model<br/><br/>\n",
    "\n",
    "* We build a Multi-Layer Perceptron\n",
    "  * Subclassing `tf.keras.Model`\n",
    "  * Taking care of some hyperparameters\n",
    "  * Setting the seed to ensure reproducibility\n",
    "\n",
    "```python\n",
    "class NPINet(tf.keras.Model):\n",
    "    def __init__(self, input_dim, hidden={}):\n",
    "        # Build the model\n",
    "        tf.random.set_seed(42)\n",
    "        # Input layer\n",
    "        self.lrs = ...\n",
    "        # Hidden layers\n",
    "        self.lrs += ...\n",
    "        # Output layer\n",
    "        self.lrs.append(...)\n",
    "```"
   ]
  },
  {
   "cell_type": "markdown",
   "id": "e88eccc6",
   "metadata": {
    "slideshow": {
     "slide_type": "subslide"
    }
   },
   "source": [
    "### Defining the model\n",
    "```python\n",
    "# Input layer\n",
    "self.lrs = [tf.keras.layers.Dense(input_dim=input_dim,\n",
    "                       units=32,\n",
    "                       kernel_initializer='random_normal',\n",
    "                       bias_initializer='zeros',\n",
    "                       kernel_regularizer='l2',\n",
    "                       activation='relu',\n",
    "                       dtype='float64', name='input')]\n",
    "...\n",
    "# Output layer\n",
    "self.lrs.append(tf.keras.layers.Dense(1,\n",
    "                                      kernel_initializer='random_normal',\n",
    "                                      bias_initializer='zeros',\n",
    "                                      activation='linear',\n",
    "                                      dtype='float64', name='output'))\n",
    "```"
   ]
  },
  {
   "cell_type": "markdown",
   "id": "990a52c2",
   "metadata": {
    "slideshow": {
     "slide_type": "subslide"
    }
   },
   "source": [
    "### Defining the model\n",
    "```python\n",
    "class NPINet(tf.keras.Model):\n",
    "    def __init__(self, input_dim, hidden={}):\n",
    "        ...\n",
    "        # Hidden layers\n",
    "        self.lrs += [tf.keras.layers.Dense(h,\n",
    "                                          kernel_initializer='random_normal',\n",
    "                                          bias_initializer='zeros',\n",
    "                                          activation='relu',\n",
    "                                          dtype='float64',\n",
    "                                          name=f'h{i}') for i,h in enumerate(hidden)]\n",
    "        ...\n",
    "```"
   ]
  },
  {
   "cell_type": "markdown",
   "id": "e176c8de",
   "metadata": {
    "slideshow": {
     "slide_type": "subslide"
    }
   },
   "source": [
    "### Set Hyperparameters"
   ]
  },
  {
   "cell_type": "code",
   "execution_count": 14,
   "id": "b5293a58",
   "metadata": {
    "slideshow": {
     "slide_type": "skip"
    }
   },
   "outputs": [],
   "source": [
    "epochs = widgets.SelectionSlider(options=[500, 1000, 1500, 2000], value=500, description='Epochs:')\n",
    "opt = widgets.Select(options=opts.keys(), value='adam', description='Optimizer:')\n",
    "loss = widgets.Select(options=['mean_squared_error', 'mean_absolute_percentage_error'],\n",
    "                      description='Loss:')\n",
    "batch_size = widgets.SelectionSlider(options=[1, 32, X_train.shape[0]], value=X_train.shape[0], description='Batch size:')\n",
    "lr_init = widgets.FloatLogSlider(base=10, min=-5, max=0, step=1, value=1e-3, description='LR initial value')\n",
    "lr_decay = widgets.Checkbox(value=True, description='LR decay:')\n",
    "lr_decay_rate = widgets.SelectionSlider(options=[0.1, 0.3, 0.5, 0.8, 0.9, 0.95], value=0.5, description='Rate:')\n",
    "act = widgets.Select(options=['relu', 'softmax', 'sigmoid', 'tanh'], value='relu', description='Activation:')\n",
    "es = widgets.Checkbox(value=True, description='Early stopping')\n",
    "es_delta = widgets.FloatLogSlider(base=10, min=-7, max=-4, step=1, value=1e-7, description='Delta')\n",
    "es_patience = widgets.SelectionSlider(options=[epochs.value, epochs.value/2, epochs.value/5, epochs.value/10, epochs.value/20, epochs.value/50, epochs.value/100], value=epochs.value/20, description='Patience:')\n",
    "tb = widgets.Checkbox(value=False, description='TensorBoard')"
   ]
  },
  {
   "cell_type": "code",
   "execution_count": 15,
   "id": "d661461c",
   "metadata": {
    "scrolled": true,
    "slideshow": {
     "slide_type": "-"
    }
   },
   "outputs": [
    {
     "data": {
      "application/vnd.jupyter.widget-view+json": {
       "model_id": "ed84430a23674b7090be4f99de0bbc59",
       "version_major": 2,
       "version_minor": 0
      },
      "text/plain": [
       "HBox(children=(VBox(children=(SelectionSlider(description='Epochs:', options=(500, 1000, 1500, 2000), value=50…"
      ]
     },
     "metadata": {},
     "output_type": "display_data"
    }
   ],
   "source": [
    "box1 = widgets.VBox([epochs, loss, batch_size, act])\n",
    "box2 = widgets.VBox([opt, lr_init, lr_decay, lr_decay_rate])\n",
    "box3 = widgets.VBox([es, es_delta, es_patience, tb])\n",
    "ui = widgets.HBox([box1, box2, box3])\n",
    "display(ui)"
   ]
  },
  {
   "cell_type": "code",
   "execution_count": 16,
   "id": "05f5240d",
   "metadata": {
    "slideshow": {
     "slide_type": "skip"
    }
   },
   "outputs": [],
   "source": [
    "hyperparameters = {\n",
    "    'epochs' : epochs.value,\n",
    "    'opt' : opt.value,\n",
    "    'loss' : loss.value,\n",
    "    'batch_size' : batch_size.value,\n",
    "    'lr_init' : lr_init.value,\n",
    "    'lr_decay' : lr_decay.value,\n",
    "    'lr_decay_rate' : lr_decay_rate.value,\n",
    "    'act' : act.value,\n",
    "    'es' : es.value,\n",
    "    'es_delta' : es_delta.value,\n",
    "    'es_patience' : es_patience.value,\n",
    "    'tb' : tb.value\n",
    "    }\n",
    "\n",
    "opt, loss, epochs, batch_size, cbks = customize_hyperparameters(X_train.shape[0], hyperparameters)"
   ]
  },
  {
   "cell_type": "markdown",
   "id": "c6bfed0c",
   "metadata": {
    "slideshow": {
     "slide_type": "subslide"
    }
   },
   "source": [
    "### Training<br/><br/>\n",
    "\n",
    "* The number of the hidden layers and their output dimensions are another *hyperparameter*\n",
    "* We can optimize over it with the help of the module `keras_tuner`\n",
    "  * Defining a `kt.HyperModel` and launching a `kt.BayesianOptimization`\n",
    "* For the sake of simplicity, let's use pre-tuned values"
   ]
  },
  {
   "cell_type": "code",
   "execution_count": 17,
   "id": "bbb5bc0a",
   "metadata": {
    "slideshow": {
     "slide_type": "skip"
    }
   },
   "outputs": [],
   "source": [
    "#from itertools import product\n",
    "#dims = [8, 16, 32]\n",
    "#h = [[d] for d in dims] +\\\n",
    "#         [list(i) for i in product(dims, dims)] +\\\n",
    "#         [list(i) for i in product(dims, dims, dims)]"
   ]
  },
  {
   "cell_type": "code",
   "execution_count": 18,
   "id": "ef9d12ff",
   "metadata": {
    "slideshow": {
     "slide_type": "skip"
    }
   },
   "outputs": [],
   "source": [
    "#import keras_tuner as kt\n",
    "#class MyHyperModel(kt.HyperModel):\n",
    "#    def build(self, hp):\n",
    "#        lrs = hp.Choice('hidden', range(len(h)))\n",
    "#        model = NPINet(input_dim=X_train.shape[1], hidden=h[lrs])\n",
    "#        model.compile(optimizer=opt, loss=loss)\n",
    "#        return model\n",
    "#tuner = kt.BayesianOptimization(\n",
    "#    MyHyperModel(),\n",
    "#    objective='val_loss',\n",
    "#    max_trials=100)"
   ]
  },
  {
   "cell_type": "code",
   "execution_count": 19,
   "id": "142a3f94",
   "metadata": {
    "slideshow": {
     "slide_type": "skip"
    }
   },
   "outputs": [],
   "source": [
    "#tuner.search(X_train, Y_train, batch_size=batch_size, epochs=epochs, validation_data=(X_val,Y_val), shuffle=False)"
   ]
  },
  {
   "cell_type": "code",
   "execution_count": 20,
   "id": "97f6efa3",
   "metadata": {
    "slideshow": {
     "slide_type": "skip"
    }
   },
   "outputs": [],
   "source": [
    "#tuner.results_summary(num_trials=10)\n",
    "#best_hp = tuner.get_best_hyperparameters()[0]\n",
    "#model = tuner.hypermodel.build(best_hp)"
   ]
  },
  {
   "cell_type": "code",
   "execution_count": 52,
   "id": "c6718869",
   "metadata": {
    "slideshow": {
     "slide_type": "-"
    }
   },
   "outputs": [],
   "source": [
    "from util.NPINet.model import NPINet\n",
    "model = NPINet(input_dim=X_train.shape[1], hidden=[32, 32])\n",
    "model.compile(optimizer=opt, loss=loss)"
   ]
  },
  {
   "cell_type": "code",
   "execution_count": 53,
   "id": "c9dc898e",
   "metadata": {
    "scrolled": true,
    "slideshow": {
     "slide_type": "-"
    }
   },
   "outputs": [
    {
     "name": "stdout",
     "output_type": "stream",
     "text": [
      "Epoch 1/500\n",
      "1/1 [==============================] - 1s 582ms/step - loss: 0.0341 - val_loss: 0.0303\n",
      "Epoch 2/500\n",
      "1/1 [==============================] - 0s 46ms/step - loss: 0.0330 - val_loss: 0.0288\n",
      "Epoch 3/500\n",
      "1/1 [==============================] - 0s 46ms/step - loss: 0.0314 - val_loss: 0.0271\n",
      "Epoch 4/500\n",
      "1/1 [==============================] - 0s 46ms/step - loss: 0.0297 - val_loss: 0.0254\n",
      "Epoch 5/500\n",
      "1/1 [==============================] - 0s 51ms/step - loss: 0.0279 - val_loss: 0.0236\n",
      "Epoch 6/500\n",
      "1/1 [==============================] - 0s 51ms/step - loss: 0.0260 - val_loss: 0.0219\n",
      "Epoch 7/500\n",
      "1/1 [==============================] - 0s 60ms/step - loss: 0.0242 - val_loss: 0.0202\n",
      "Epoch 8/500\n",
      "1/1 [==============================] - 0s 57ms/step - loss: 0.0223 - val_loss: 0.0186\n",
      "Epoch 9/500\n",
      "1/1 [==============================] - 0s 65ms/step - loss: 0.0205 - val_loss: 0.0170\n",
      "Epoch 10/500\n",
      "1/1 [==============================] - 0s 64ms/step - loss: 0.0188 - val_loss: 0.0156\n",
      "Epoch 11/500\n",
      "1/1 [==============================] - 0s 52ms/step - loss: 0.0172 - val_loss: 0.0144\n",
      "Epoch 12/500\n",
      "1/1 [==============================] - 0s 66ms/step - loss: 0.0158 - val_loss: 0.0134\n",
      "Epoch 13/500\n",
      "1/1 [==============================] - 0s 54ms/step - loss: 0.0145 - val_loss: 0.0125\n",
      "Epoch 14/500\n",
      "1/1 [==============================] - 0s 63ms/step - loss: 0.0134 - val_loss: 0.0119\n",
      "Epoch 15/500\n",
      "1/1 [==============================] - 0s 47ms/step - loss: 0.0124 - val_loss: 0.0114\n",
      "Epoch 16/500\n",
      "1/1 [==============================] - 0s 43ms/step - loss: 0.0116 - val_loss: 0.0109\n",
      "Epoch 17/500\n",
      "1/1 [==============================] - 0s 40ms/step - loss: 0.0109 - val_loss: 0.0104\n",
      "Epoch 18/500\n",
      "1/1 [==============================] - 0s 58ms/step - loss: 0.0102 - val_loss: 0.0097\n",
      "Epoch 19/500\n",
      "1/1 [==============================] - 0s 74ms/step - loss: 0.0095 - val_loss: 0.0090\n",
      "Epoch 20/500\n",
      "1/1 [==============================] - 0s 65ms/step - loss: 0.0088 - val_loss: 0.0083\n",
      "Epoch 21/500\n",
      "1/1 [==============================] - 0s 77ms/step - loss: 0.0081 - val_loss: 0.0076\n",
      "Epoch 22/500\n",
      "1/1 [==============================] - 0s 60ms/step - loss: 0.0076 - val_loss: 0.0070\n",
      "Epoch 23/500\n",
      "1/1 [==============================] - 0s 65ms/step - loss: 0.0070 - val_loss: 0.0065\n",
      "Epoch 24/500\n",
      "1/1 [==============================] - 0s 51ms/step - loss: 0.0066 - val_loss: 0.0061\n",
      "Epoch 25/500\n",
      "1/1 [==============================] - 0s 42ms/step - loss: 0.0062 - val_loss: 0.0056\n",
      "Epoch 26/500\n",
      "1/1 [==============================] - 0s 53ms/step - loss: 0.0058 - val_loss: 0.0053\n",
      "Epoch 27/500\n",
      "1/1 [==============================] - 0s 49ms/step - loss: 0.0055 - val_loss: 0.0050\n",
      "Epoch 28/500\n",
      "1/1 [==============================] - 0s 73ms/step - loss: 0.0052 - val_loss: 0.0047\n",
      "Epoch 29/500\n",
      "1/1 [==============================] - 0s 50ms/step - loss: 0.0049 - val_loss: 0.0044\n",
      "Epoch 30/500\n",
      "1/1 [==============================] - 0s 55ms/step - loss: 0.0046 - val_loss: 0.0041\n",
      "Epoch 31/500\n",
      "1/1 [==============================] - 0s 52ms/step - loss: 0.0043 - val_loss: 0.0039\n",
      "Epoch 32/500\n",
      "1/1 [==============================] - 0s 53ms/step - loss: 0.0041 - val_loss: 0.0037\n",
      "Epoch 33/500\n",
      "1/1 [==============================] - 0s 55ms/step - loss: 0.0039 - val_loss: 0.0035\n",
      "Epoch 34/500\n",
      "1/1 [==============================] - 0s 50ms/step - loss: 0.0036 - val_loss: 0.0033\n",
      "Epoch 35/500\n",
      "1/1 [==============================] - 0s 63ms/step - loss: 0.0034 - val_loss: 0.0031\n",
      "Epoch 36/500\n",
      "1/1 [==============================] - 0s 49ms/step - loss: 0.0032 - val_loss: 0.0030\n",
      "Epoch 37/500\n",
      "1/1 [==============================] - 0s 48ms/step - loss: 0.0031 - val_loss: 0.0028\n",
      "Epoch 38/500\n",
      "1/1 [==============================] - 0s 50ms/step - loss: 0.0029 - val_loss: 0.0027\n",
      "Epoch 39/500\n",
      "1/1 [==============================] - 0s 51ms/step - loss: 0.0027 - val_loss: 0.0025\n",
      "Epoch 40/500\n",
      "1/1 [==============================] - 0s 59ms/step - loss: 0.0026 - val_loss: 0.0024\n",
      "Epoch 41/500\n",
      "1/1 [==============================] - 0s 48ms/step - loss: 0.0024 - val_loss: 0.0023\n",
      "Epoch 42/500\n",
      "1/1 [==============================] - 0s 47ms/step - loss: 0.0023 - val_loss: 0.0022\n",
      "Epoch 43/500\n",
      "1/1 [==============================] - 0s 40ms/step - loss: 0.0022 - val_loss: 0.0021\n",
      "Epoch 44/500\n",
      "1/1 [==============================] - 0s 55ms/step - loss: 0.0021 - val_loss: 0.0020\n",
      "Epoch 45/500\n",
      "1/1 [==============================] - 0s 50ms/step - loss: 0.0020 - val_loss: 0.0019\n",
      "Epoch 46/500\n",
      "1/1 [==============================] - 0s 58ms/step - loss: 0.0019 - val_loss: 0.0018\n",
      "Epoch 47/500\n",
      "1/1 [==============================] - 0s 80ms/step - loss: 0.0018 - val_loss: 0.0017\n",
      "Epoch 48/500\n",
      "1/1 [==============================] - 0s 68ms/step - loss: 0.0017 - val_loss: 0.0017\n",
      "Epoch 49/500\n",
      "1/1 [==============================] - 0s 53ms/step - loss: 0.0016 - val_loss: 0.0016\n",
      "Epoch 50/500\n",
      "1/1 [==============================] - 0s 47ms/step - loss: 0.0016 - val_loss: 0.0015\n",
      "Epoch 51/500\n",
      "1/1 [==============================] - 0s 61ms/step - loss: 0.0015 - val_loss: 0.0014\n",
      "Epoch 52/500\n",
      "1/1 [==============================] - 0s 54ms/step - loss: 0.0014 - val_loss: 0.0014\n",
      "Epoch 53/500\n",
      "1/1 [==============================] - 0s 58ms/step - loss: 0.0014 - val_loss: 0.0013\n",
      "Epoch 54/500\n",
      "1/1 [==============================] - 0s 58ms/step - loss: 0.0013 - val_loss: 0.0013\n",
      "Epoch 55/500\n",
      "1/1 [==============================] - 0s 56ms/step - loss: 0.0013 - val_loss: 0.0012\n",
      "Epoch 56/500\n",
      "1/1 [==============================] - 0s 59ms/step - loss: 0.0012 - val_loss: 0.0012\n",
      "Epoch 57/500\n",
      "1/1 [==============================] - 0s 49ms/step - loss: 0.0012 - val_loss: 0.0011\n",
      "Epoch 58/500\n",
      "1/1 [==============================] - 0s 49ms/step - loss: 0.0011 - val_loss: 0.0011\n",
      "Epoch 59/500\n",
      "1/1 [==============================] - 0s 45ms/step - loss: 0.0011 - val_loss: 0.0010\n",
      "Epoch 60/500\n",
      "1/1 [==============================] - 0s 51ms/step - loss: 0.0010 - val_loss: 9.8719e-04\n",
      "Epoch 61/500\n",
      "1/1 [==============================] - 0s 49ms/step - loss: 9.8884e-04 - val_loss: 9.4892e-04\n",
      "Epoch 62/500\n",
      "1/1 [==============================] - 0s 43ms/step - loss: 9.5146e-04 - val_loss: 9.1061e-04\n",
      "Epoch 63/500\n",
      "1/1 [==============================] - 0s 42ms/step - loss: 9.1601e-04 - val_loss: 8.7407e-04\n",
      "Epoch 64/500\n",
      "1/1 [==============================] - 0s 56ms/step - loss: 8.8238e-04 - val_loss: 8.4114e-04\n",
      "Epoch 65/500\n",
      "1/1 [==============================] - 0s 47ms/step - loss: 8.5043e-04 - val_loss: 8.1090e-04\n",
      "Epoch 66/500\n",
      "1/1 [==============================] - 0s 44ms/step - loss: 8.2011e-04 - val_loss: 7.8145e-04\n",
      "Epoch 67/500\n",
      "1/1 [==============================] - 0s 47ms/step - loss: 7.9127e-04 - val_loss: 7.5263e-04\n",
      "Epoch 68/500\n",
      "1/1 [==============================] - 0s 50ms/step - loss: 7.6380e-04 - val_loss: 7.2587e-04\n",
      "Epoch 69/500\n",
      "1/1 [==============================] - 0s 48ms/step - loss: 7.3769e-04 - val_loss: 7.0127e-04\n",
      "Epoch 70/500\n",
      "1/1 [==============================] - 0s 44ms/step - loss: 7.1274e-04 - val_loss: 6.7764e-04\n",
      "Epoch 71/500\n",
      "1/1 [==============================] - 0s 45ms/step - loss: 6.8906e-04 - val_loss: 6.5418e-04\n",
      "Epoch 72/500\n",
      "1/1 [==============================] - 0s 50ms/step - loss: 6.6650e-04 - val_loss: 6.3118e-04\n",
      "Epoch 73/500\n",
      "1/1 [==============================] - 0s 53ms/step - loss: 6.4492e-04 - val_loss: 6.1079e-04\n",
      "Epoch 74/500\n",
      "1/1 [==============================] - 0s 44ms/step - loss: 6.2429e-04 - val_loss: 5.9238e-04\n",
      "Epoch 75/500\n",
      "1/1 [==============================] - 0s 49ms/step - loss: 6.0455e-04 - val_loss: 5.7275e-04\n",
      "Epoch 76/500\n",
      "1/1 [==============================] - 0s 59ms/step - loss: 5.8561e-04 - val_loss: 5.5128e-04\n",
      "Epoch 77/500\n",
      "1/1 [==============================] - 0s 56ms/step - loss: 5.6751e-04 - val_loss: 5.3356e-04\n",
      "Epoch 78/500\n",
      "1/1 [==============================] - 0s 47ms/step - loss: 5.5018e-04 - val_loss: 5.1896e-04\n",
      "Epoch 79/500\n",
      "1/1 [==============================] - 0s 43ms/step - loss: 5.3361e-04 - val_loss: 5.0023e-04\n",
      "Epoch 80/500\n",
      "1/1 [==============================] - 0s 39ms/step - loss: 5.1778e-04 - val_loss: 4.8145e-04\n",
      "Epoch 81/500\n",
      "1/1 [==============================] - 0s 43ms/step - loss: 5.0253e-04 - val_loss: 4.6679e-04\n",
      "Epoch 82/500\n"
     ]
    },
    {
     "name": "stdout",
     "output_type": "stream",
     "text": [
      "1/1 [==============================] - 0s 46ms/step - loss: 4.8799e-04 - val_loss: 4.5779e-04\n",
      "Epoch 83/500\n",
      "1/1 [==============================] - 0s 41ms/step - loss: 4.7401e-04 - val_loss: 4.3735e-04\n",
      "Epoch 84/500\n",
      "1/1 [==============================] - 0s 45ms/step - loss: 4.6048e-04 - val_loss: 4.2339e-04\n",
      "Epoch 85/500\n",
      "1/1 [==============================] - 0s 41ms/step - loss: 4.4768e-04 - val_loss: 4.2111e-04\n",
      "Epoch 86/500\n",
      "1/1 [==============================] - 0s 43ms/step - loss: 4.3560e-04 - val_loss: 4.0164e-04\n",
      "Epoch 87/500\n",
      "1/1 [==============================] - 0s 41ms/step - loss: 4.2341e-04 - val_loss: 3.8513e-04\n",
      "Epoch 88/500\n",
      "1/1 [==============================] - 0s 43ms/step - loss: 4.1224e-04 - val_loss: 3.8584e-04\n",
      "Epoch 89/500\n",
      "1/1 [==============================] - 0s 42ms/step - loss: 4.0124e-04 - val_loss: 3.6854e-04\n",
      "Epoch 90/500\n",
      "1/1 [==============================] - 0s 41ms/step - loss: 3.9038e-04 - val_loss: 3.5478e-04\n",
      "Epoch 91/500\n",
      "1/1 [==============================] - 0s 42ms/step - loss: 3.8036e-04 - val_loss: 3.5058e-04\n",
      "Epoch 92/500\n",
      "1/1 [==============================] - 0s 50ms/step - loss: 3.7046e-04 - val_loss: 3.3883e-04\n",
      "Epoch 93/500\n",
      "1/1 [==============================] - 0s 40ms/step - loss: 3.6128e-04 - val_loss: 3.2803e-04\n",
      "Epoch 94/500\n",
      "1/1 [==============================] - 0s 46ms/step - loss: 3.5197e-04 - val_loss: 3.2422e-04\n",
      "Epoch 95/500\n",
      "1/1 [==============================] - 0s 49ms/step - loss: 3.4360e-04 - val_loss: 3.1252e-04\n",
      "Epoch 96/500\n",
      "1/1 [==============================] - 0s 45ms/step - loss: 3.3522e-04 - val_loss: 3.0420e-04\n",
      "Epoch 97/500\n",
      "1/1 [==============================] - 0s 40ms/step - loss: 3.2696e-04 - val_loss: 2.9619e-04\n",
      "Epoch 98/500\n",
      "1/1 [==============================] - 0s 51ms/step - loss: 3.1895e-04 - val_loss: 2.8809e-04\n",
      "Epoch 99/500\n",
      "1/1 [==============================] - 0s 45ms/step - loss: 3.1145e-04 - val_loss: 2.8080e-04\n",
      "Epoch 100/500\n",
      "1/1 [==============================] - 0s 43ms/step - loss: 3.0412e-04 - val_loss: 2.7212e-04\n",
      "Epoch 101/500\n",
      "1/1 [==============================] - 0s 53ms/step - loss: 2.9713e-04 - val_loss: 2.6737e-04\n",
      "Epoch 102/500\n",
      "1/1 [==============================] - 0s 40ms/step - loss: 2.9037e-04 - val_loss: 2.5918e-04\n",
      "Epoch 103/500\n",
      "1/1 [==============================] - 0s 51ms/step - loss: 2.8366e-04 - val_loss: 2.5271e-04\n",
      "Epoch 104/500\n",
      "1/1 [==============================] - 0s 45ms/step - loss: 2.7749e-04 - val_loss: 2.4759e-04\n",
      "Epoch 105/500\n",
      "1/1 [==============================] - 0s 38ms/step - loss: 2.7140e-04 - val_loss: 2.3974e-04\n",
      "Epoch 106/500\n",
      "1/1 [==============================] - 0s 44ms/step - loss: 2.6525e-04 - val_loss: 2.3556e-04\n",
      "Epoch 107/500\n",
      "1/1 [==============================] - 0s 46ms/step - loss: 2.5960e-04 - val_loss: 2.2882e-04\n",
      "Epoch 108/500\n",
      "1/1 [==============================] - 0s 40ms/step - loss: 2.5405e-04 - val_loss: 2.2251e-04\n",
      "Epoch 109/500\n",
      "1/1 [==============================] - 0s 45ms/step - loss: 2.4859e-04 - val_loss: 2.2154e-04\n",
      "Epoch 110/500\n",
      "1/1 [==============================] - 0s 42ms/step - loss: 2.4363e-04 - val_loss: 2.1058e-04\n",
      "Epoch 111/500\n",
      "1/1 [==============================] - 0s 46ms/step - loss: 2.3858e-04 - val_loss: 2.1395e-04\n",
      "Epoch 112/500\n",
      "1/1 [==============================] - 0s 45ms/step - loss: 2.3414e-04 - val_loss: 1.9967e-04\n",
      "Epoch 113/500\n",
      "1/1 [==============================] - 0s 45ms/step - loss: 2.2941e-04 - val_loss: 2.0757e-04\n",
      "Epoch 114/500\n",
      "1/1 [==============================] - 0s 47ms/step - loss: 2.2525e-04 - val_loss: 1.8888e-04\n",
      "Epoch 115/500\n",
      "1/1 [==============================] - 0s 40ms/step - loss: 2.2150e-04 - val_loss: 1.9709e-04\n",
      "Epoch 116/500\n",
      "1/1 [==============================] - 0s 46ms/step - loss: 2.1673e-04 - val_loss: 1.8467e-04\n",
      "Epoch 117/500\n",
      "1/1 [==============================] - 0s 49ms/step - loss: 2.1171e-04 - val_loss: 1.8139e-04\n",
      "Epoch 118/500\n",
      "1/1 [==============================] - 0s 41ms/step - loss: 2.0774e-04 - val_loss: 1.8394e-04\n",
      "Epoch 119/500\n",
      "1/1 [==============================] - 0s 40ms/step - loss: 2.0417e-04 - val_loss: 1.7040e-04\n",
      "Epoch 120/500\n",
      "1/1 [==============================] - 0s 45ms/step - loss: 2.0083e-04 - val_loss: 1.7750e-04\n",
      "Epoch 121/500\n",
      "1/1 [==============================] - 0s 46ms/step - loss: 1.9694e-04 - val_loss: 1.6370e-04\n",
      "Epoch 122/500\n",
      "1/1 [==============================] - 0s 37ms/step - loss: 1.9344e-04 - val_loss: 1.6795e-04\n",
      "Epoch 123/500\n",
      "1/1 [==============================] - 0s 48ms/step - loss: 1.8973e-04 - val_loss: 1.5994e-04\n",
      "Epoch 124/500\n",
      "1/1 [==============================] - 0s 50ms/step - loss: 1.8608e-04 - val_loss: 1.5701e-04\n",
      "Epoch 125/500\n",
      "1/1 [==============================] - 0s 40ms/step - loss: 1.8261e-04 - val_loss: 1.5901e-04\n",
      "Epoch 126/500\n",
      "1/1 [==============================] - 0s 54ms/step - loss: 1.8002e-04 - val_loss: 1.4740e-04\n",
      "Epoch 127/500\n",
      "1/1 [==============================] - 0s 53ms/step - loss: 1.7782e-04 - val_loss: 1.5880e-04\n",
      "Epoch 128/500\n",
      "1/1 [==============================] - 0s 46ms/step - loss: 1.7574e-04 - val_loss: 1.4146e-04\n",
      "Epoch 129/500\n",
      "1/1 [==============================] - 0s 43ms/step - loss: 1.7334e-04 - val_loss: 1.5114e-04\n",
      "Epoch 130/500\n",
      "1/1 [==============================] - 0s 45ms/step - loss: 1.6983e-04 - val_loss: 1.3791e-04\n",
      "Epoch 131/500\n",
      "1/1 [==============================] - 0s 45ms/step - loss: 1.6559e-04 - val_loss: 1.3875e-04\n",
      "Epoch 132/500\n",
      "1/1 [==============================] - 0s 49ms/step - loss: 1.6292e-04 - val_loss: 1.3845e-04\n",
      "Epoch 133/500\n",
      "1/1 [==============================] - 0s 40ms/step - loss: 1.6031e-04 - val_loss: 1.2937e-04\n",
      "Epoch 134/500\n",
      "1/1 [==============================] - 0s 44ms/step - loss: 1.5870e-04 - val_loss: 1.3381e-04\n",
      "Epoch 135/500\n",
      "1/1 [==============================] - 0s 40ms/step - loss: 1.5704e-04 - val_loss: 1.2463e-04\n",
      "Epoch 136/500\n",
      "1/1 [==============================] - 0s 43ms/step - loss: 1.5382e-04 - val_loss: 1.3066e-04\n",
      "Epoch 137/500\n",
      "1/1 [==============================] - 0s 51ms/step - loss: 1.5135e-04 - val_loss: 1.2251e-04\n",
      "Epoch 138/500\n",
      "1/1 [==============================] - 0s 46ms/step - loss: 1.4893e-04 - val_loss: 1.2178e-04\n",
      "Epoch 139/500\n",
      "1/1 [==============================] - 0s 38ms/step - loss: 1.4621e-04 - val_loss: 1.1961e-04\n",
      "Epoch 140/500\n",
      "1/1 [==============================] - 0s 49ms/step - loss: 1.4418e-04 - val_loss: 1.1524e-04\n",
      "Epoch 141/500\n",
      "1/1 [==============================] - 0s 49ms/step - loss: 1.4237e-04 - val_loss: 1.1710e-04\n",
      "Epoch 142/500\n",
      "1/1 [==============================] - 0s 43ms/step - loss: 1.4026e-04 - val_loss: 1.1199e-04\n",
      "Epoch 143/500\n",
      "1/1 [==============================] - 0s 54ms/step - loss: 1.3825e-04 - val_loss: 1.1358e-04\n",
      "Epoch 144/500\n",
      "1/1 [==============================] - 0s 43ms/step - loss: 1.3623e-04 - val_loss: 1.0809e-04\n",
      "Epoch 145/500\n",
      "1/1 [==============================] - 0s 47ms/step - loss: 1.3435e-04 - val_loss: 1.0832e-04\n",
      "Epoch 146/500\n",
      "1/1 [==============================] - 0s 51ms/step - loss: 1.3271e-04 - val_loss: 1.0454e-04\n",
      "Epoch 147/500\n",
      "1/1 [==============================] - 0s 49ms/step - loss: 1.3076e-04 - val_loss: 1.0906e-04\n",
      "Epoch 148/500\n",
      "1/1 [==============================] - 0s 49ms/step - loss: 1.2983e-04 - val_loss: 1.0209e-04\n",
      "Epoch 149/500\n",
      "1/1 [==============================] - 0s 46ms/step - loss: 1.2977e-04 - val_loss: 1.1447e-04\n",
      "Epoch 150/500\n",
      "1/1 [==============================] - 0s 43ms/step - loss: 1.3083e-04 - val_loss: 1.0692e-04\n",
      "Epoch 151/500\n",
      "1/1 [==============================] - 0s 57ms/step - loss: 1.3185e-04 - val_loss: 1.0303e-04\n",
      "Epoch 152/500\n",
      "1/1 [==============================] - 0s 87ms/step - loss: 1.2621e-04 - val_loss: 9.6269e-05\n",
      "Epoch 153/500\n",
      "1/1 [==============================] - 0s 121ms/step - loss: 1.2127e-04 - val_loss: 9.4351e-05\n",
      "Epoch 154/500\n",
      "1/1 [==============================] - 0s 99ms/step - loss: 1.2098e-04 - val_loss: 1.0646e-04\n",
      "Epoch 155/500\n",
      "1/1 [==============================] - 0s 93ms/step - loss: 1.2329e-04 - val_loss: 9.8609e-05\n",
      "Epoch 156/500\n",
      "1/1 [==============================] - 0s 87ms/step - loss: 1.2530e-04 - val_loss: 1.0159e-04\n",
      "Epoch 157/500\n",
      "1/1 [==============================] - 0s 110ms/step - loss: 1.1904e-04 - val_loss: 9.0337e-05\n",
      "Epoch 158/500\n"
     ]
    },
    {
     "name": "stdout",
     "output_type": "stream",
     "text": [
      "1/1 [==============================] - 0s 101ms/step - loss: 1.1458e-04 - val_loss: 8.9776e-05\n",
      "Epoch 159/500\n",
      "1/1 [==============================] - 0s 77ms/step - loss: 1.1555e-04 - val_loss: 9.6406e-05\n",
      "Epoch 160/500\n",
      "1/1 [==============================] - 0s 48ms/step - loss: 1.1470e-04 - val_loss: 8.6428e-05\n",
      "Epoch 161/500\n",
      "1/1 [==============================] - 0s 43ms/step - loss: 1.1145e-04 - val_loss: 8.5537e-05\n",
      "Epoch 162/500\n",
      "1/1 [==============================] - 0s 44ms/step - loss: 1.1006e-04 - val_loss: 9.1876e-05\n",
      "Epoch 163/500\n",
      "1/1 [==============================] - 0s 45ms/step - loss: 1.1047e-04 - val_loss: 8.4814e-05\n",
      "Epoch 164/500\n",
      "1/1 [==============================] - 0s 52ms/step - loss: 1.1027e-04 - val_loss: 8.3671e-05\n",
      "Epoch 165/500\n",
      "1/1 [==============================] - 0s 41ms/step - loss: 1.0750e-04 - val_loss: 8.1974e-05\n",
      "Epoch 166/500\n",
      "1/1 [==============================] - 0s 52ms/step - loss: 1.0564e-04 - val_loss: 8.0231e-05\n",
      "Epoch 167/500\n",
      "1/1 [==============================] - 0s 71ms/step - loss: 1.0508e-04 - val_loss: 8.3787e-05\n",
      "Epoch 168/500\n",
      "1/1 [==============================] - 0s 151ms/step - loss: 1.0456e-04 - val_loss: 7.8505e-05\n",
      "Epoch 169/500\n",
      "1/1 [==============================] - 0s 125ms/step - loss: 1.0274e-04 - val_loss: 7.7245e-05\n",
      "Epoch 170/500\n",
      "1/1 [==============================] - 0s 89ms/step - loss: 1.0119e-04 - val_loss: 7.7929e-05\n",
      "Epoch 171/500\n",
      "1/1 [==============================] - 0s 66ms/step - loss: 1.0043e-04 - val_loss: 7.5161e-05\n",
      "Epoch 172/500\n",
      "1/1 [==============================] - 0s 53ms/step - loss: 9.9373e-05 - val_loss: 7.4125e-05\n",
      "Epoch 173/500\n",
      "1/1 [==============================] - 0s 64ms/step - loss: 9.8232e-05 - val_loss: 7.5355e-05\n",
      "Epoch 174/500\n",
      "1/1 [==============================] - 0s 79ms/step - loss: 9.7499e-05 - val_loss: 7.2355e-05\n",
      "Epoch 175/500\n",
      "1/1 [==============================] - 0s 64ms/step - loss: 9.7098e-05 - val_loss: 7.3986e-05\n",
      "Epoch 176/500\n",
      "1/1 [==============================] - 0s 68ms/step - loss: 9.5764e-05 - val_loss: 7.1404e-05\n",
      "Epoch 177/500\n",
      "1/1 [==============================] - 0s 86ms/step - loss: 9.4449e-05 - val_loss: 7.0703e-05\n",
      "Epoch 178/500\n",
      "1/1 [==============================] - 0s 55ms/step - loss: 9.3947e-05 - val_loss: 7.0164e-05\n",
      "Epoch 179/500\n",
      "1/1 [==============================] - 0s 42ms/step - loss: 9.2931e-05 - val_loss: 6.8559e-05\n",
      "Epoch 180/500\n",
      "1/1 [==============================] - 0s 55ms/step - loss: 9.1863e-05 - val_loss: 6.9576e-05\n",
      "Epoch 181/500\n",
      "1/1 [==============================] - 0s 50ms/step - loss: 9.1614e-05 - val_loss: 6.7197e-05\n",
      "Epoch 182/500\n",
      "1/1 [==============================] - 0s 43ms/step - loss: 9.0712e-05 - val_loss: 6.8557e-05\n",
      "Epoch 183/500\n",
      "1/1 [==============================] - 0s 43ms/step - loss: 9.0087e-05 - val_loss: 6.6638e-05\n",
      "Epoch 184/500\n",
      "1/1 [==============================] - 0s 59ms/step - loss: 8.9375e-05 - val_loss: 6.6822e-05\n",
      "Epoch 185/500\n",
      "1/1 [==============================] - 0s 68ms/step - loss: 8.8245e-05 - val_loss: 6.5389e-05\n",
      "Epoch 186/500\n",
      "1/1 [==============================] - 0s 58ms/step - loss: 8.7261e-05 - val_loss: 6.4626e-05\n",
      "Epoch 187/500\n",
      "1/1 [==============================] - 0s 62ms/step - loss: 8.6675e-05 - val_loss: 6.4307e-05\n",
      "Epoch 188/500\n",
      "1/1 [==============================] - 0s 66ms/step - loss: 8.5826e-05 - val_loss: 6.3654e-05\n",
      "Epoch 189/500\n",
      "1/1 [==============================] - 0s 60ms/step - loss: 8.5414e-05 - val_loss: 6.3279e-05\n",
      "Epoch 190/500\n",
      "1/1 [==============================] - 0s 49ms/step - loss: 8.4698e-05 - val_loss: 6.2746e-05\n",
      "Epoch 191/500\n",
      "1/1 [==============================] - 0s 74ms/step - loss: 8.3826e-05 - val_loss: 6.2223e-05\n",
      "Epoch 192/500\n",
      "1/1 [==============================] - 0s 84ms/step - loss: 8.3330e-05 - val_loss: 6.1783e-05\n",
      "Epoch 193/500\n",
      "1/1 [==============================] - 0s 83ms/step - loss: 8.2519e-05 - val_loss: 6.1435e-05\n",
      "Epoch 194/500\n",
      "1/1 [==============================] - 0s 78ms/step - loss: 8.1980e-05 - val_loss: 6.1731e-05\n",
      "Epoch 195/500\n",
      "1/1 [==============================] - 0s 93ms/step - loss: 8.1587e-05 - val_loss: 6.0485e-05\n",
      "Epoch 196/500\n",
      "1/1 [==============================] - 0s 79ms/step - loss: 8.0917e-05 - val_loss: 6.0802e-05\n",
      "Epoch 197/500\n",
      "1/1 [==============================] - 0s 89ms/step - loss: 8.0568e-05 - val_loss: 6.1512e-05\n",
      "Epoch 198/500\n",
      "1/1 [==============================] - 0s 73ms/step - loss: 8.1391e-05 - val_loss: 6.9241e-05\n",
      "Epoch 199/500\n",
      "1/1 [==============================] - 0s 83ms/step - loss: 8.4697e-05 - val_loss: 7.1966e-05\n",
      "Epoch 200/500\n",
      "1/1 [==============================] - 0s 79ms/step - loss: 9.0409e-05 - val_loss: 9.3080e-05\n",
      "Epoch 201/500\n",
      "1/1 [==============================] - 0s 64ms/step - loss: 9.7584e-05 - val_loss: 6.4875e-05\n",
      "Epoch 202/500\n",
      "1/1 [==============================] - 0s 77ms/step - loss: 8.3038e-05 - val_loss: 5.8610e-05\n",
      "Epoch 203/500\n",
      "1/1 [==============================] - 0s 79ms/step - loss: 7.9172e-05 - val_loss: 7.1636e-05\n",
      "Epoch 204/500\n",
      "1/1 [==============================] - 0s 72ms/step - loss: 8.5210e-05 - val_loss: 5.9732e-05\n",
      "Epoch 205/500\n",
      "1/1 [==============================] - 0s 100ms/step - loss: 8.0296e-05 - val_loss: 5.5957e-05\n",
      "Epoch 206/500\n",
      "1/1 [==============================] - 0s 136ms/step - loss: 7.5571e-05 - val_loss: 6.4059e-05\n",
      "Epoch 207/500\n",
      "1/1 [==============================] - 0s 82ms/step - loss: 7.9325e-05 - val_loss: 6.1715e-05\n",
      "Epoch 208/500\n",
      "1/1 [==============================] - 0s 83ms/step - loss: 8.1338e-05 - val_loss: 6.7604e-05\n",
      "Epoch 209/500\n",
      "1/1 [==============================] - 0s 69ms/step - loss: 7.9446e-05 - val_loss: 5.4745e-05\n",
      "Epoch 210/500\n",
      "1/1 [==============================] - 0s 63ms/step - loss: 7.5164e-05 - val_loss: 5.4566e-05\n",
      "Epoch 211/500\n",
      "1/1 [==============================] - 0s 79ms/step - loss: 7.5297e-05 - val_loss: 6.6307e-05\n",
      "Epoch 212/500\n",
      "1/1 [==============================] - 0s 63ms/step - loss: 7.7627e-05 - val_loss: 5.5064e-05\n",
      "Epoch 213/500\n",
      "1/1 [==============================] - 0s 64ms/step - loss: 7.5382e-05 - val_loss: 5.3333e-05\n",
      "Epoch 214/500\n",
      "1/1 [==============================] - 0s 65ms/step - loss: 7.2786e-05 - val_loss: 5.7298e-05\n",
      "Epoch 215/500\n",
      "1/1 [==============================] - 0s 67ms/step - loss: 7.4390e-05 - val_loss: 5.5873e-05\n",
      "Epoch 216/500\n",
      "1/1 [==============================] - 0s 68ms/step - loss: 7.5010e-05 - val_loss: 5.7325e-05\n",
      "Epoch 217/500\n",
      "1/1 [==============================] - 0s 80ms/step - loss: 7.3061e-05 - val_loss: 5.4270e-05\n",
      "Epoch 218/500\n",
      "1/1 [==============================] - 0s 49ms/step - loss: 7.1823e-05 - val_loss: 5.2409e-05\n",
      "Epoch 219/500\n",
      "1/1 [==============================] - 0s 73ms/step - loss: 7.2874e-05 - val_loss: 6.0133e-05\n",
      "Epoch 220/500\n",
      "1/1 [==============================] - 0s 92ms/step - loss: 7.3166e-05 - val_loss: 5.0777e-05\n",
      "Epoch 221/500\n",
      "1/1 [==============================] - 0s 76ms/step - loss: 7.0547e-05 - val_loss: 5.0092e-05\n",
      "Epoch 222/500\n",
      "1/1 [==============================] - 0s 89ms/step - loss: 6.9926e-05 - val_loss: 5.2322e-05\n",
      "Epoch 223/500\n",
      "1/1 [==============================] - 0s 66ms/step - loss: 7.0881e-05 - val_loss: 5.1144e-05\n",
      "Epoch 224/500\n",
      "1/1 [==============================] - 0s 50ms/step - loss: 7.0606e-05 - val_loss: 5.2057e-05\n",
      "Epoch 225/500\n",
      "1/1 [==============================] - 0s 63ms/step - loss: 6.9449e-05 - val_loss: 5.0528e-05\n",
      "Epoch 226/500\n",
      "1/1 [==============================] - 0s 50ms/step - loss: 6.8372e-05 - val_loss: 4.9450e-05\n",
      "Epoch 227/500\n",
      "1/1 [==============================] - 0s 76ms/step - loss: 6.8588e-05 - val_loss: 5.3289e-05\n",
      "Epoch 228/500\n",
      "1/1 [==============================] - 0s 76ms/step - loss: 6.8355e-05 - val_loss: 4.8631e-05\n",
      "Epoch 229/500\n",
      "1/1 [==============================] - 0s 65ms/step - loss: 6.7281e-05 - val_loss: 4.8018e-05\n",
      "Epoch 230/500\n",
      "1/1 [==============================] - 0s 72ms/step - loss: 6.7090e-05 - val_loss: 5.0628e-05\n",
      "Epoch 231/500\n",
      "1/1 [==============================] - 0s 83ms/step - loss: 6.7397e-05 - val_loss: 4.7942e-05\n",
      "Epoch 232/500\n",
      "1/1 [==============================] - 0s 60ms/step - loss: 6.6973e-05 - val_loss: 4.8299e-05\n",
      "Epoch 233/500\n",
      "1/1 [==============================] - 0s 61ms/step - loss: 6.6307e-05 - val_loss: 4.8299e-05\n"
     ]
    },
    {
     "name": "stdout",
     "output_type": "stream",
     "text": [
      "Epoch 234/500\n",
      "1/1 [==============================] - 0s 59ms/step - loss: 6.5576e-05 - val_loss: 4.7336e-05\n",
      "Epoch 235/500\n",
      "1/1 [==============================] - 0s 50ms/step - loss: 6.5699e-05 - val_loss: 5.0357e-05\n",
      "Epoch 236/500\n",
      "1/1 [==============================] - 0s 61ms/step - loss: 6.5596e-05 - val_loss: 4.7107e-05\n",
      "Epoch 237/500\n",
      "1/1 [==============================] - 0s 64ms/step - loss: 6.4965e-05 - val_loss: 4.7378e-05\n",
      "Epoch 238/500\n",
      "1/1 [==============================] - 0s 65ms/step - loss: 6.4380e-05 - val_loss: 4.6578e-05\n",
      "Epoch 239/500\n",
      "1/1 [==============================] - 0s 93ms/step - loss: 6.4176e-05 - val_loss: 4.6151e-05\n",
      "Epoch 240/500\n",
      "1/1 [==============================] - 0s 77ms/step - loss: 6.3806e-05 - val_loss: 4.6694e-05\n",
      "Epoch 241/500\n",
      "1/1 [==============================] - 0s 73ms/step - loss: 6.3605e-05 - val_loss: 4.5882e-05\n",
      "Epoch 242/500\n",
      "1/1 [==============================] - 0s 55ms/step - loss: 6.3440e-05 - val_loss: 4.7312e-05\n",
      "Epoch 243/500\n",
      "1/1 [==============================] - 0s 65ms/step - loss: 6.3242e-05 - val_loss: 4.5402e-05\n",
      "Epoch 244/500\n",
      "1/1 [==============================] - 0s 48ms/step - loss: 6.3047e-05 - val_loss: 4.7058e-05\n",
      "Epoch 245/500\n",
      "1/1 [==============================] - 0s 58ms/step - loss: 6.2840e-05 - val_loss: 4.5126e-05\n",
      "Epoch 246/500\n",
      "1/1 [==============================] - 0s 63ms/step - loss: 6.2593e-05 - val_loss: 4.7840e-05\n",
      "Epoch 247/500\n",
      "1/1 [==============================] - 0s 72ms/step - loss: 6.2477e-05 - val_loss: 4.5091e-05\n",
      "Epoch 248/500\n",
      "1/1 [==============================] - 0s 72ms/step - loss: 6.2411e-05 - val_loss: 4.7234e-05\n",
      "Epoch 249/500\n",
      "1/1 [==============================] - 0s 73ms/step - loss: 6.1892e-05 - val_loss: 4.4630e-05\n",
      "Epoch 250/500\n",
      "1/1 [==============================] - 0s 65ms/step - loss: 6.1429e-05 - val_loss: 4.4729e-05\n",
      "Epoch 251/500\n",
      "1/1 [==============================] - 0s 57ms/step - loss: 6.1291e-05 - val_loss: 4.4884e-05\n",
      "Epoch 252/500\n",
      "1/1 [==============================] - 0s 56ms/step - loss: 6.1028e-05 - val_loss: 4.4110e-05\n",
      "Epoch 253/500\n",
      "1/1 [==============================] - 0s 55ms/step - loss: 6.0895e-05 - val_loss: 4.7410e-05\n",
      "Epoch 254/500\n",
      "1/1 [==============================] - 0s 45ms/step - loss: 6.0940e-05 - val_loss: 4.3786e-05\n",
      "Epoch 255/500\n",
      "1/1 [==============================] - 0s 50ms/step - loss: 6.0975e-05 - val_loss: 4.8185e-05\n",
      "Epoch 256/500\n",
      "1/1 [==============================] - 0s 62ms/step - loss: 6.0769e-05 - val_loss: 4.3370e-05\n",
      "Epoch 257/500\n",
      "1/1 [==============================] - 0s 61ms/step - loss: 6.0438e-05 - val_loss: 4.6743e-05\n",
      "Epoch 258/500\n",
      "1/1 [==============================] - 0s 56ms/step - loss: 6.0037e-05 - val_loss: 4.3309e-05\n",
      "Epoch 259/500\n",
      "1/1 [==============================] - 0s 69ms/step - loss: 5.9803e-05 - val_loss: 4.5117e-05\n",
      "Epoch 260/500\n",
      "1/1 [==============================] - 0s 46ms/step - loss: 5.9310e-05 - val_loss: 4.3946e-05\n",
      "Epoch 261/500\n",
      "1/1 [==============================] - 0s 46ms/step - loss: 5.8998e-05 - val_loss: 4.2776e-05\n",
      "Epoch 262/500\n",
      "1/1 [==============================] - 0s 52ms/step - loss: 5.8965e-05 - val_loss: 4.6115e-05\n",
      "Epoch 263/500\n",
      "1/1 [==============================] - 0s 44ms/step - loss: 5.9125e-05 - val_loss: 4.2417e-05\n",
      "Epoch 264/500\n",
      "1/1 [==============================] - 0s 60ms/step - loss: 5.9141e-05 - val_loss: 4.8325e-05\n",
      "Epoch 265/500\n",
      "1/1 [==============================] - 0s 65ms/step - loss: 5.9203e-05 - val_loss: 4.3236e-05\n",
      "Epoch 266/500\n",
      "1/1 [==============================] - 0s 68ms/step - loss: 5.8703e-05 - val_loss: 4.4027e-05\n",
      "Epoch 267/500\n",
      "1/1 [==============================] - 0s 71ms/step - loss: 5.8106e-05 - val_loss: 4.4804e-05\n",
      "Epoch 268/500\n",
      "1/1 [==============================] - 0s 74ms/step - loss: 5.7937e-05 - val_loss: 4.1496e-05\n",
      "Epoch 269/500\n",
      "1/1 [==============================] - 0s 77ms/step - loss: 5.8314e-05 - val_loss: 4.6997e-05\n",
      "Epoch 270/500\n",
      "1/1 [==============================] - 0s 93ms/step - loss: 5.8334e-05 - val_loss: 4.1482e-05\n",
      "Epoch 271/500\n",
      "1/1 [==============================] - 0s 69ms/step - loss: 5.7989e-05 - val_loss: 4.6875e-05\n",
      "Epoch 272/500\n",
      "1/1 [==============================] - 0s 72ms/step - loss: 5.7624e-05 - val_loss: 4.1972e-05\n",
      "Epoch 273/500\n",
      "1/1 [==============================] - 0s 74ms/step - loss: 5.7217e-05 - val_loss: 4.3362e-05\n",
      "Epoch 274/500\n",
      "1/1 [==============================] - 0s 59ms/step - loss: 5.6781e-05 - val_loss: 4.2210e-05\n",
      "Epoch 275/500\n",
      "1/1 [==============================] - 0s 64ms/step - loss: 5.6719e-05 - val_loss: 4.1837e-05\n",
      "Epoch 276/500\n",
      "1/1 [==============================] - 0s 48ms/step - loss: 5.6432e-05 - val_loss: 4.3386e-05\n",
      "Epoch 277/500\n",
      "1/1 [==============================] - 0s 55ms/step - loss: 5.6387e-05 - val_loss: 4.0916e-05\n",
      "Epoch 278/500\n",
      "1/1 [==============================] - 0s 68ms/step - loss: 5.6587e-05 - val_loss: 4.6945e-05\n",
      "Epoch 279/500\n",
      "1/1 [==============================] - 0s 80ms/step - loss: 5.6850e-05 - val_loss: 4.0436e-05\n",
      "Epoch 280/500\n",
      "1/1 [==============================] - 0s 71ms/step - loss: 5.6932e-05 - val_loss: 4.7336e-05\n",
      "Epoch 281/500\n",
      "1/1 [==============================] - 0s 56ms/step - loss: 5.6850e-05 - val_loss: 4.0329e-05\n",
      "Epoch 282/500\n",
      "1/1 [==============================] - 0s 59ms/step - loss: 5.6414e-05 - val_loss: 4.5448e-05\n",
      "Epoch 283/500\n",
      "1/1 [==============================] - 0s 71ms/step - loss: 5.5865e-05 - val_loss: 4.0845e-05\n",
      "Epoch 284/500\n",
      "1/1 [==============================] - 0s 58ms/step - loss: 5.5683e-05 - val_loss: 4.5068e-05\n",
      "Epoch 285/500\n",
      "1/1 [==============================] - 0s 63ms/step - loss: 5.5428e-05 - val_loss: 4.0910e-05\n",
      "Epoch 286/500\n",
      "1/1 [==============================] - 0s 61ms/step - loss: 5.5130e-05 - val_loss: 4.2697e-05\n",
      "Epoch 287/500\n",
      "1/1 [==============================] - 0s 66ms/step - loss: 5.4903e-05 - val_loss: 4.0720e-05\n",
      "Epoch 288/500\n",
      "1/1 [==============================] - 0s 59ms/step - loss: 5.4858e-05 - val_loss: 4.4358e-05\n",
      "Epoch 289/500\n",
      "1/1 [==============================] - 0s 73ms/step - loss: 5.4763e-05 - val_loss: 4.0091e-05\n",
      "Epoch 290/500\n",
      "1/1 [==============================] - 0s 66ms/step - loss: 5.5114e-05 - val_loss: 4.9301e-05\n",
      "Epoch 291/500\n",
      "1/1 [==============================] - 0s 51ms/step - loss: 5.5362e-05 - val_loss: 3.9697e-05\n",
      "Epoch 292/500\n",
      "1/1 [==============================] - 0s 66ms/step - loss: 5.5159e-05 - val_loss: 4.6386e-05\n",
      "Epoch 293/500\n",
      "1/1 [==============================] - 0s 73ms/step - loss: 5.4852e-05 - val_loss: 3.9460e-05\n",
      "Epoch 294/500\n",
      "1/1 [==============================] - 0s 72ms/step - loss: 5.4599e-05 - val_loss: 4.6207e-05\n",
      "Epoch 295/500\n",
      "1/1 [==============================] - 0s 75ms/step - loss: 5.4580e-05 - val_loss: 3.9399e-05\n",
      "Epoch 296/500\n",
      "1/1 [==============================] - 0s 64ms/step - loss: 5.4832e-05 - val_loss: 5.2072e-05\n",
      "Epoch 297/500\n",
      "1/1 [==============================] - 0s 51ms/step - loss: 5.5426e-05 - val_loss: 3.9277e-05\n",
      "Epoch 298/500\n",
      "1/1 [==============================] - 0s 57ms/step - loss: 5.5131e-05 - val_loss: 4.9831e-05\n",
      "Epoch 299/500\n",
      "1/1 [==============================] - 0s 61ms/step - loss: 5.4641e-05 - val_loss: 4.0110e-05\n",
      "Epoch 300/500\n",
      "1/1 [==============================] - 0s 58ms/step - loss: 5.4120e-05 - val_loss: 4.3263e-05\n",
      "Epoch 301/500\n",
      "1/1 [==============================] - 0s 63ms/step - loss: 5.3336e-05 - val_loss: 4.3188e-05\n",
      "Epoch 302/500\n",
      "1/1 [==============================] - 0s 62ms/step - loss: 5.3046e-05 - val_loss: 4.0569e-05\n",
      "Epoch 303/500\n",
      "1/1 [==============================] - 0s 69ms/step - loss: 5.3335e-05 - val_loss: 4.8488e-05\n",
      "Epoch 304/500\n",
      "1/1 [==============================] - 0s 80ms/step - loss: 5.3636e-05 - val_loss: 3.9085e-05\n",
      "Epoch 305/500\n",
      "1/1 [==============================] - 0s 82ms/step - loss: 5.3842e-05 - val_loss: 5.1886e-05\n",
      "Epoch 306/500\n",
      "1/1 [==============================] - 0s 95ms/step - loss: 5.4583e-05 - val_loss: 3.9034e-05\n",
      "Epoch 307/500\n",
      "1/1 [==============================] - 0s 99ms/step - loss: 5.5256e-05 - val_loss: 5.9167e-05\n",
      "Epoch 308/500\n",
      "1/1 [==============================] - 0s 80ms/step - loss: 5.5696e-05 - val_loss: 4.0418e-05\n",
      "Epoch 309/500\n",
      "1/1 [==============================] - 0s 61ms/step - loss: 5.4056e-05 - val_loss: 4.5493e-05\n"
     ]
    },
    {
     "name": "stdout",
     "output_type": "stream",
     "text": [
      "Epoch 310/500\n",
      "1/1 [==============================] - 0s 72ms/step - loss: 5.2420e-05 - val_loss: 4.7725e-05\n",
      "Epoch 311/500\n",
      "1/1 [==============================] - 0s 57ms/step - loss: 5.2574e-05 - val_loss: 3.8426e-05\n",
      "Epoch 312/500\n",
      "1/1 [==============================] - 0s 43ms/step - loss: 5.3730e-05 - val_loss: 5.7917e-05\n",
      "Epoch 313/500\n",
      "1/1 [==============================] - 0s 59ms/step - loss: 5.5657e-05 - val_loss: 3.8947e-05\n",
      "Epoch 314/500\n",
      "1/1 [==============================] - 0s 53ms/step - loss: 5.5108e-05 - val_loss: 6.0198e-05\n",
      "Epoch 315/500\n",
      "1/1 [==============================] - 0s 45ms/step - loss: 5.5128e-05 - val_loss: 4.0329e-05\n",
      "Epoch 316/500\n",
      "1/1 [==============================] - 0s 56ms/step - loss: 5.3578e-05 - val_loss: 5.1402e-05\n",
      "Epoch 317/500\n",
      "1/1 [==============================] - 0s 41ms/step - loss: 5.2358e-05 - val_loss: 4.4095e-05\n",
      "Epoch 318/500\n",
      "1/1 [==============================] - 0s 50ms/step - loss: 5.1638e-05 - val_loss: 3.9158e-05\n",
      "Epoch 319/500\n",
      "1/1 [==============================] - 0s 46ms/step - loss: 5.2019e-05 - val_loss: 5.2056e-05\n",
      "Epoch 320/500\n",
      "1/1 [==============================] - 0s 46ms/step - loss: 5.3616e-05 - val_loss: 3.8283e-05\n",
      "Epoch 321/500\n",
      "1/1 [==============================] - 0s 45ms/step - loss: 5.3978e-05 - val_loss: 5.8086e-05\n",
      "Epoch 322/500\n",
      "1/1 [==============================] - 0s 45ms/step - loss: 5.4009e-05 - val_loss: 4.0754e-05\n",
      "Epoch 323/500\n",
      "1/1 [==============================] - 0s 45ms/step - loss: 5.2406e-05 - val_loss: 4.8133e-05\n",
      "Epoch 324/500\n",
      "1/1 [==============================] - 0s 47ms/step - loss: 5.1421e-05 - val_loss: 4.8103e-05\n",
      "Epoch 325/500\n",
      "1/1 [==============================] - 0s 47ms/step - loss: 5.1204e-05 - val_loss: 3.8491e-05\n",
      "Epoch 326/500\n",
      "1/1 [==============================] - 0s 42ms/step - loss: 5.1635e-05 - val_loss: 5.0493e-05\n",
      "Epoch 327/500\n",
      "1/1 [==============================] - 0s 48ms/step - loss: 5.2588e-05 - val_loss: 3.7834e-05\n",
      "Epoch 328/500\n",
      "1/1 [==============================] - 0s 43ms/step - loss: 5.2567e-05 - val_loss: 5.3654e-05\n",
      "Epoch 329/500\n",
      "1/1 [==============================] - 0s 44ms/step - loss: 5.2634e-05 - val_loss: 3.8903e-05\n",
      "Epoch 330/500\n",
      "1/1 [==============================] - 0s 43ms/step - loss: 5.2021e-05 - val_loss: 5.3867e-05\n",
      "Epoch 331/500\n",
      "1/1 [==============================] - 0s 41ms/step - loss: 5.1630e-05 - val_loss: 4.1651e-05\n",
      "Epoch 332/500\n",
      "1/1 [==============================] - 0s 47ms/step - loss: 5.0589e-05 - val_loss: 4.1456e-05\n",
      "Epoch 333/500\n",
      "1/1 [==============================] - 0s 47ms/step - loss: 5.0159e-05 - val_loss: 4.4382e-05\n",
      "Epoch 334/500\n",
      "1/1 [==============================] - 0s 42ms/step - loss: 5.0474e-05 - val_loss: 3.8631e-05\n",
      "Epoch 335/500\n",
      "1/1 [==============================] - 0s 49ms/step - loss: 5.0637e-05 - val_loss: 4.7298e-05\n",
      "Epoch 336/500\n",
      "1/1 [==============================] - 0s 41ms/step - loss: 5.0478e-05 - val_loss: 4.0322e-05\n",
      "Epoch 337/500\n",
      "1/1 [==============================] - 0s 47ms/step - loss: 5.0306e-05 - val_loss: 4.8349e-05\n",
      "Epoch 338/500\n",
      "1/1 [==============================] - 0s 47ms/step - loss: 5.0254e-05 - val_loss: 4.2251e-05\n",
      "Epoch 339/500\n",
      "1/1 [==============================] - 0s 44ms/step - loss: 4.9816e-05 - val_loss: 4.0111e-05\n",
      "Epoch 340/500\n",
      "1/1 [==============================] - 0s 43ms/step - loss: 4.9665e-05 - val_loss: 4.3767e-05\n",
      "Epoch 341/500\n",
      "1/1 [==============================] - 0s 45ms/step - loss: 4.9929e-05 - val_loss: 3.7557e-05\n",
      "Epoch 342/500\n",
      "1/1 [==============================] - 0s 43ms/step - loss: 5.0246e-05 - val_loss: 5.0829e-05\n",
      "Epoch 343/500\n",
      "1/1 [==============================] - 0s 45ms/step - loss: 5.0897e-05 - val_loss: 3.7965e-05\n",
      "Epoch 344/500\n",
      "1/1 [==============================] - 0s 56ms/step - loss: 5.1219e-05 - val_loss: 5.7378e-05\n",
      "Epoch 345/500\n",
      "1/1 [==============================] - 0s 44ms/step - loss: 5.1398e-05 - val_loss: 3.8307e-05\n",
      "Epoch 346/500\n",
      "1/1 [==============================] - 0s 43ms/step - loss: 5.0182e-05 - val_loss: 4.5398e-05\n",
      "Epoch 347/500\n",
      "1/1 [==============================] - 0s 43ms/step - loss: 4.9339e-05 - val_loss: 4.1545e-05\n",
      "Epoch 348/500\n",
      "1/1 [==============================] - 0s 44ms/step - loss: 4.9163e-05 - val_loss: 3.8502e-05\n",
      "Epoch 349/500\n",
      "1/1 [==============================] - 0s 59ms/step - loss: 4.9438e-05 - val_loss: 4.9572e-05\n",
      "Epoch 350/500\n",
      "1/1 [==============================] - 0s 40ms/step - loss: 4.9750e-05 - val_loss: 3.9206e-05\n",
      "Epoch 351/500\n",
      "1/1 [==============================] - 0s 41ms/step - loss: 4.9913e-05 - val_loss: 5.4868e-05\n",
      "Epoch 352/500\n",
      "1/1 [==============================] - 0s 48ms/step - loss: 5.0033e-05 - val_loss: 4.0159e-05\n",
      "Epoch 353/500\n",
      "1/1 [==============================] - 0s 43ms/step - loss: 4.9413e-05 - val_loss: 4.6585e-05\n",
      "Epoch 354/500\n",
      "1/1 [==============================] - 0s 47ms/step - loss: 4.8910e-05 - val_loss: 3.9144e-05\n",
      "Epoch 355/500\n",
      "1/1 [==============================] - 0s 46ms/step - loss: 4.8966e-05 - val_loss: 4.4344e-05\n",
      "Epoch 356/500\n",
      "1/1 [==============================] - 0s 46ms/step - loss: 4.8841e-05 - val_loss: 3.9054e-05\n",
      "Epoch 357/500\n",
      "1/1 [==============================] - 0s 41ms/step - loss: 4.8746e-05 - val_loss: 4.7175e-05\n",
      "Epoch 358/500\n",
      "1/1 [==============================] - 0s 45ms/step - loss: 4.8596e-05 - val_loss: 3.9890e-05\n",
      "Epoch 359/500\n",
      "1/1 [==============================] - 0s 50ms/step - loss: 4.8711e-05 - val_loss: 4.8863e-05\n",
      "Epoch 360/500\n",
      "1/1 [==============================] - 0s 44ms/step - loss: 4.8755e-05 - val_loss: 3.8274e-05\n",
      "Epoch 361/500\n",
      "1/1 [==============================] - 0s 44ms/step - loss: 4.8786e-05 - val_loss: 4.8764e-05\n",
      "Epoch 362/500\n",
      "1/1 [==============================] - 0s 44ms/step - loss: 4.8885e-05 - val_loss: 3.7819e-05\n",
      "Epoch 363/500\n",
      "1/1 [==============================] - 0s 49ms/step - loss: 4.8752e-05 - val_loss: 4.7121e-05\n",
      "Epoch 364/500\n",
      "1/1 [==============================] - 0s 43ms/step - loss: 4.8277e-05 - val_loss: 4.1050e-05\n",
      "Epoch 365/500\n",
      "1/1 [==============================] - 0s 46ms/step - loss: 4.8123e-05 - val_loss: 4.5664e-05\n",
      "Epoch 366/500\n",
      "1/1 [==============================] - 0s 47ms/step - loss: 4.7895e-05 - val_loss: 4.0887e-05\n"
     ]
    }
   ],
   "source": [
    "history = model.fit(X_train, Y_train, batch_size=batch_size, epochs=epochs, validation_data=(X_val,Y_val), callbacks=cbks, shuffle=False)"
   ]
  },
  {
   "cell_type": "markdown",
   "id": "b4a370d2",
   "metadata": {
    "slideshow": {
     "slide_type": "slide"
    }
   },
   "source": [
    "## Inspecting results"
   ]
  },
  {
   "cell_type": "markdown",
   "id": "5caeeb4e",
   "metadata": {
    "slideshow": {
     "slide_type": "subslide"
    }
   },
   "source": [
    "### Loss history<br/><br/>\n",
    "\n",
    "* Both the training and the validation loss decrease **quite regularly**\n",
    "  * With other hyperparameters configurations, it is often not the case\n",
    "  * Rather, the loss exhibits quite significant oscillations (expecially the validation loss)"
   ]
  },
  {
   "cell_type": "code",
   "execution_count": 54,
   "id": "308bb710",
   "metadata": {
    "slideshow": {
     "slide_type": "-"
    }
   },
   "outputs": [
    {
     "data": {
      "application/vnd.jupyter.widget-view+json": {
       "model_id": "6f0471b8335f4849afe37b9e49b69d7f",
       "version_major": 2,
       "version_minor": 0
      },
      "text/plain": [
       "Canvas(toolbar=Toolbar(toolitems=[('Home', 'Reset original view', 'home', 'home'), ('Back', 'Back to previous …"
      ]
     },
     "metadata": {},
     "output_type": "display_data"
    }
   ],
   "source": [
    "plot_loss_history(history)"
   ]
  },
  {
   "cell_type": "code",
   "execution_count": 24,
   "id": "5c18af8c",
   "metadata": {
    "slideshow": {
     "slide_type": "skip"
    }
   },
   "outputs": [],
   "source": [
    "#%load_ext tensorboard\n",
    "#%tensorboard --logdir logs"
   ]
  },
  {
   "cell_type": "markdown",
   "id": "17f6c390",
   "metadata": {
    "slideshow": {
     "slide_type": "subslide"
    }
   },
   "source": [
    "### Predictions<br/><br/>\n",
    "\n",
    "* Let's inspect the predictions of the $\\beta$ parameters\n",
    "* The initial bumps are not learned (the model returns flat predictions)\n",
    "  * But this actually could mean a low overfitting risk\n",
    "* The MSE is even slightly lower on the validation set\n",
    "  * However, the $R^{2}$ score drops significantly"
   ]
  },
  {
   "cell_type": "code",
   "execution_count": 55,
   "id": "42367f52",
   "metadata": {
    "scrolled": false,
    "slideshow": {
     "slide_type": "-"
    }
   },
   "outputs": [
    {
     "data": {
      "application/vnd.jupyter.widget-view+json": {
       "model_id": "7f34ac400f48480687cf6a81eade7bf4",
       "version_major": 2,
       "version_minor": 0
      },
      "text/plain": [
       "Canvas(toolbar=Toolbar(toolitems=[('Home', 'Reset original view', 'home', 'home'), ('Back', 'Back to previous …"
      ]
     },
     "metadata": {},
     "output_type": "display_data"
    },
    {
     "name": "stdout",
     "output_type": "stream",
     "text": [
      "R2 scores: ['0.94 (train)', '0.37 (val)']\n",
      "mse:\n",
      "['0.00003 (train)', '0.00002 (val)']\n"
     ]
    }
   ],
   "source": [
    "evaluate_model(model, X_train_val, Y_train_val, start_date,\n",
    "               mode='train', split={'val':X_train.shape[0]});"
   ]
  },
  {
   "cell_type": "markdown",
   "id": "0aa231c9",
   "metadata": {
    "slideshow": {
     "slide_type": "slide"
    }
   },
   "source": [
    "## Testing"
   ]
  },
  {
   "cell_type": "markdown",
   "id": "0b7509e3",
   "metadata": {
    "slideshow": {
     "slide_type": "subslide"
    }
   },
   "source": [
    "### Predictions on $\\beta$<br/><br/>\n",
    "\n",
    "* The MSE is at the same level of the training set\n",
    "* The $R^{2}$ score is higher with respect to the validation set"
   ]
  },
  {
   "cell_type": "code",
   "execution_count": 56,
   "id": "3391a065",
   "metadata": {
    "scrolled": true,
    "slideshow": {
     "slide_type": "-"
    }
   },
   "outputs": [
    {
     "data": {
      "application/vnd.jupyter.widget-view+json": {
       "model_id": "6ff22bd1d6ed4d8bb3df54d0ec65f3a9",
       "version_major": 2,
       "version_minor": 0
      },
      "text/plain": [
       "Canvas(toolbar=Toolbar(toolitems=[('Home', 'Reset original view', 'home', 'home'), ('Back', 'Back to previous …"
      ]
     },
     "metadata": {},
     "output_type": "display_data"
    },
    {
     "name": "stdout",
     "output_type": "stream",
     "text": [
      "R2 scores: ['0.63 (test)']\n",
      "mse:\n",
      "['0.00004 (test)']\n"
     ]
    }
   ],
   "source": [
    "evaluate_model(model, X_test, Y_test, split_date, mode='test');"
   ]
  },
  {
   "cell_type": "markdown",
   "id": "aa864da5",
   "metadata": {
    "slideshow": {
     "slide_type": "subslide"
    }
   },
   "source": [
    "### Predictions on $\\beta$ (training+test sets)<br/><br/>\n",
    "\n",
    "* Let's see the predictions all at once"
   ]
  },
  {
   "cell_type": "code",
   "execution_count": 57,
   "id": "d09105a2",
   "metadata": {
    "slideshow": {
     "slide_type": "-"
    }
   },
   "outputs": [
    {
     "data": {
      "application/vnd.jupyter.widget-view+json": {
       "model_id": "6fade8934e6b4092a7e2215b6ebc182b",
       "version_major": 2,
       "version_minor": 0
      },
      "text/plain": [
       "Canvas(toolbar=Toolbar(toolitems=[('Home', 'Reset original view', 'home', 'home'), ('Back', 'Back to previous …"
      ]
     },
     "metadata": {},
     "output_type": "display_data"
    },
    {
     "name": "stdout",
     "output_type": "stream",
     "text": [
      "R2 scores: ['0.94 (train)', '0.37 (val)', '0.63 (test)']\n",
      "mse:\n",
      "['0.00003 (train)', '0.00002 (val)', '0.00004 (test)']\n"
     ]
    }
   ],
   "source": [
    "evaluate_model(model, X_true, Y_true, start_date, mode='train_test',\n",
    "               split={'val': X_train.shape[0], 'test': X_train_val.shape[0]});"
   ]
  },
  {
   "cell_type": "markdown",
   "id": "727ad10d",
   "metadata": {
    "slideshow": {
     "slide_type": "subslide"
    }
   },
   "source": [
    "### Prediction through SIR model"
   ]
  },
  {
   "cell_type": "code",
   "execution_count": 58,
   "id": "cd5d04f2",
   "metadata": {
    "slideshow": {
     "slide_type": "-"
    }
   },
   "outputs": [
    {
     "data": {
      "application/vnd.jupyter.widget-view+json": {
       "model_id": "8c7bf017aeac401088ea0001040cb7ac",
       "version_major": 2,
       "version_minor": 0
      },
      "text/plain": [
       "Canvas(toolbar=Toolbar(toolitems=[('Home', 'Reset original view', 'home', 'home'), ('Back', 'Back to previous …"
      ]
     },
     "metadata": {},
     "output_type": "display_data"
    },
    {
     "name": "stdout",
     "output_type": "stream",
     "text": [
      "R2 scores: ['0.98 (train)', '-1.95 (val)', '-0.99 (test)']\n",
      "mse:['2.28e-03 (train)', '8.96e-04 (val)', '8.33e-03 (test)']\n"
     ]
    }
   ],
   "source": [
    "I_true, I_pred, I_fit = SIR_evaluation(model, X_true, Y_true, beta, start_date, end_date, method='RK',\n",
    "                                       split={'val': X_train.shape[0],'test': X_train_val.shape[0]},\n",
    "                                       lbdays=lbdays)"
   ]
  },
  {
   "cell_type": "markdown",
   "id": "9dd3beda",
   "metadata": {
    "slideshow": {
     "slide_type": "slide"
    }
   },
   "source": [
    "## Conclusions"
   ]
  },
  {
   "cell_type": "markdown",
   "id": "e4224249",
   "metadata": {
    "slideshow": {
     "slide_type": "subslide"
    }
   },
   "source": [
    "### Conclusions<br/><br/>\n",
    "* We used the results of the `SIRModel` as starting point for our work\n",
    "  * In particular, we employed fitted $\\beta$ parameters as target features\n",
    "* We developed a **predictive** model\n",
    "  * In the form of a MLP regressor\n",
    "  * Employing relevant data (such as NPIs) as input features\n",
    "  * Working discretely, at least for short periods of time\n",
    "<br/><br/>\n",
    "### Improvements<br/><br/>\n",
    "* Collecting **more data** to enlarge the training set\n",
    "* Identify further relevant **features** to consider\n",
    "* Develop a **progressive method** to obtain predictions\n",
    "  * Use the last `lbdays` to predict 1 $\\beta$ value at a time\n",
    "  * Launching the SIR prediction to get the value for $I$\n",
    "  * Attaching this value to the previous `lbdays-1` values\n",
    "  * Repeat"
   ]
  },
  {
   "cell_type": "markdown",
   "id": "8b4d933e",
   "metadata": {
    "slideshow": {
     "slide_type": "subslide"
    }
   },
   "source": [
    "## Future work... again!<br/><br/>\n",
    "<blockquote>\n",
    "<h3> Future work<br/><br/></h3>\n",
    "\n",
    "* <span style=\"color: gray;\"> Now, if we have NPI (Non Pharmaceutical Interventions) data, it is possible to exploit our results to build a **predictive model**:</span>\n",
    "  - <span style=\"color: gray;\"> Whose *input features* are the NPIs</span>\n",
    "  - <span style=\"color: gray;\"> Whose *target* is fitted data ($\\beta$ parameters)</span>\n",
    "* <span style=\"color: gray;\"> If we can manage to model the relationship between NPIs and $\\beta$, we could **predict** the evolution of the epidemic (in particular, of the infected)</span>\n",
    "* It would then be possible to build a **prescriptive model**, namely a model to establish the best NPI to take in order to obtain a certain evolution of the epidemic.\n",
    "  - In particular, this could be achieved exploiting the [**Empirical Model Learning**](https://emlopt.github.io/) approach\n",
    "  - Namely, injecting the ML model into a *Combinatorial optimization model*...\n",
    "* ... but that is matter for another work!\n",
    "</blockquote>"
   ]
  },
  {
   "cell_type": "markdown",
   "id": "2186f69c",
   "metadata": {
    "slideshow": {
     "slide_type": "skip"
    }
   },
   "source": [
    "### Saving"
   ]
  },
  {
   "cell_type": "code",
   "execution_count": 29,
   "id": "a61597bc",
   "metadata": {
    "code_folding": [
     0
    ],
    "slideshow": {
     "slide_type": "skip"
    }
   },
   "outputs": [],
   "source": [
    "#import json\n",
    "#model_filename = 'data/models/model_'\n",
    "#history_filename = 'data/models/history_'\n",
    "#\n",
    "#write=False\n",
    "#i=1\n",
    "#while write is False:\n",
    "#    m_file = model_filename+str(i)+'.h5'\n",
    "#    h_file = history_filename+str(i)+'.json'\n",
    "#    try:\n",
    "#        open(m_file)\n",
    "#    except FileNotFoundError:\n",
    "#        model.save(m_file)\n",
    "#        with open(h_file, 'w') as hf:\n",
    "#            json.dump(history.history, hf, indent=4)\n",
    "#        write=True\n",
    "#    else:\n",
    "#        i=i+1\n",
    "#\n",
    "#with open('history.json', 'r') as hf:\n",
    "#    data = json.load(hf)"
   ]
  }
 ],
 "metadata": {
  "celltoolbar": "Slideshow",
  "kernelspec": {
   "display_name": "Python [conda env:root] *",
   "language": "python",
   "name": "conda-root-py"
  },
  "language_info": {
   "codemirror_mode": {
    "name": "ipython",
    "version": 3
   },
   "file_extension": ".py",
   "mimetype": "text/x-python",
   "name": "python",
   "nbconvert_exporter": "python",
   "pygments_lexer": "ipython3",
   "version": "3.8.8"
  },
  "notify_time": "5",
  "toc": {
   "base_numbering": 1,
   "nav_menu": {},
   "number_sections": true,
   "sideBar": true,
   "skip_h1_title": false,
   "title_cell": "Table of Contents",
   "title_sidebar": "Contents",
   "toc_cell": false,
   "toc_position": {
    "height": "calc(100% - 180px)",
    "left": "10px",
    "top": "150px",
    "width": "220px"
   },
   "toc_section_display": true,
   "toc_window_display": true
  },
  "varInspector": {
   "cols": {
    "lenName": 16,
    "lenType": 16,
    "lenVar": 40
   },
   "kernels_config": {
    "python": {
     "delete_cmd_postfix": "",
     "delete_cmd_prefix": "del ",
     "library": "var_list.py",
     "varRefreshCmd": "print(var_dic_list())"
    },
    "r": {
     "delete_cmd_postfix": ") ",
     "delete_cmd_prefix": "rm(",
     "library": "var_list.r",
     "varRefreshCmd": "cat(var_dic_list()) "
    }
   },
   "position": {
    "height": "243px",
    "left": "1070px",
    "right": "20px",
    "top": "120px",
    "width": "350px"
   },
   "types_to_exclude": [
    "module",
    "function",
    "builtin_function_or_method",
    "instance",
    "_Feature"
   ],
   "window_display": false
  }
 },
 "nbformat": 4,
 "nbformat_minor": 5
}
